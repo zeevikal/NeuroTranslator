{
 "cells": [
  {
   "cell_type": "code",
   "execution_count": 1,
   "metadata": {
    "ExecuteTime": {
     "end_time": "2020-07-30T16:25:25.710545Z",
     "start_time": "2020-07-30T16:25:14.291460Z"
    }
   },
   "outputs": [
    {
     "name": "stderr",
     "output_type": "stream",
     "text": [
      "C:\\Users\\zkalyuzhner\\.conda\\envs\\neurot\\lib\\site-packages\\tensorflow\\python\\framework\\dtypes.py:516: FutureWarning: Passing (type, 1) or '1type' as a synonym of type is deprecated; in a future version of numpy, it will be understood as (type, (1,)) / '(1,)type'.\n",
      "  _np_qint8 = np.dtype([(\"qint8\", np.int8, 1)])\n",
      "C:\\Users\\zkalyuzhner\\.conda\\envs\\neurot\\lib\\site-packages\\tensorflow\\python\\framework\\dtypes.py:517: FutureWarning: Passing (type, 1) or '1type' as a synonym of type is deprecated; in a future version of numpy, it will be understood as (type, (1,)) / '(1,)type'.\n",
      "  _np_quint8 = np.dtype([(\"quint8\", np.uint8, 1)])\n",
      "C:\\Users\\zkalyuzhner\\.conda\\envs\\neurot\\lib\\site-packages\\tensorflow\\python\\framework\\dtypes.py:518: FutureWarning: Passing (type, 1) or '1type' as a synonym of type is deprecated; in a future version of numpy, it will be understood as (type, (1,)) / '(1,)type'.\n",
      "  _np_qint16 = np.dtype([(\"qint16\", np.int16, 1)])\n",
      "C:\\Users\\zkalyuzhner\\.conda\\envs\\neurot\\lib\\site-packages\\tensorflow\\python\\framework\\dtypes.py:519: FutureWarning: Passing (type, 1) or '1type' as a synonym of type is deprecated; in a future version of numpy, it will be understood as (type, (1,)) / '(1,)type'.\n",
      "  _np_quint16 = np.dtype([(\"quint16\", np.uint16, 1)])\n",
      "C:\\Users\\zkalyuzhner\\.conda\\envs\\neurot\\lib\\site-packages\\tensorflow\\python\\framework\\dtypes.py:520: FutureWarning: Passing (type, 1) or '1type' as a synonym of type is deprecated; in a future version of numpy, it will be understood as (type, (1,)) / '(1,)type'.\n",
      "  _np_qint32 = np.dtype([(\"qint32\", np.int32, 1)])\n",
      "C:\\Users\\zkalyuzhner\\.conda\\envs\\neurot\\lib\\site-packages\\tensorflow\\python\\framework\\dtypes.py:525: FutureWarning: Passing (type, 1) or '1type' as a synonym of type is deprecated; in a future version of numpy, it will be understood as (type, (1,)) / '(1,)type'.\n",
      "  np_resource = np.dtype([(\"resource\", np.ubyte, 1)])\n",
      "C:\\Users\\zkalyuzhner\\.conda\\envs\\neurot\\lib\\site-packages\\tensorboard\\compat\\tensorflow_stub\\dtypes.py:541: FutureWarning: Passing (type, 1) or '1type' as a synonym of type is deprecated; in a future version of numpy, it will be understood as (type, (1,)) / '(1,)type'.\n",
      "  _np_qint8 = np.dtype([(\"qint8\", np.int8, 1)])\n",
      "C:\\Users\\zkalyuzhner\\.conda\\envs\\neurot\\lib\\site-packages\\tensorboard\\compat\\tensorflow_stub\\dtypes.py:542: FutureWarning: Passing (type, 1) or '1type' as a synonym of type is deprecated; in a future version of numpy, it will be understood as (type, (1,)) / '(1,)type'.\n",
      "  _np_quint8 = np.dtype([(\"quint8\", np.uint8, 1)])\n",
      "C:\\Users\\zkalyuzhner\\.conda\\envs\\neurot\\lib\\site-packages\\tensorboard\\compat\\tensorflow_stub\\dtypes.py:543: FutureWarning: Passing (type, 1) or '1type' as a synonym of type is deprecated; in a future version of numpy, it will be understood as (type, (1,)) / '(1,)type'.\n",
      "  _np_qint16 = np.dtype([(\"qint16\", np.int16, 1)])\n",
      "C:\\Users\\zkalyuzhner\\.conda\\envs\\neurot\\lib\\site-packages\\tensorboard\\compat\\tensorflow_stub\\dtypes.py:544: FutureWarning: Passing (type, 1) or '1type' as a synonym of type is deprecated; in a future version of numpy, it will be understood as (type, (1,)) / '(1,)type'.\n",
      "  _np_quint16 = np.dtype([(\"quint16\", np.uint16, 1)])\n",
      "C:\\Users\\zkalyuzhner\\.conda\\envs\\neurot\\lib\\site-packages\\tensorboard\\compat\\tensorflow_stub\\dtypes.py:545: FutureWarning: Passing (type, 1) or '1type' as a synonym of type is deprecated; in a future version of numpy, it will be understood as (type, (1,)) / '(1,)type'.\n",
      "  _np_qint32 = np.dtype([(\"qint32\", np.int32, 1)])\n",
      "C:\\Users\\zkalyuzhner\\.conda\\envs\\neurot\\lib\\site-packages\\tensorboard\\compat\\tensorflow_stub\\dtypes.py:550: FutureWarning: Passing (type, 1) or '1type' as a synonym of type is deprecated; in a future version of numpy, it will be understood as (type, (1,)) / '(1,)type'.\n",
      "  np_resource = np.dtype([(\"resource\", np.ubyte, 1)])\n"
     ]
    }
   ],
   "source": [
    "import os\n",
    "import cv2\n",
    "import glob\n",
    "import pickle\n",
    "import requests\n",
    "import numpy as np\n",
    "from io import BytesIO\n",
    "from matplotlib import cm\n",
    "from tqdm import tqdm_notebook\n",
    "import matplotlib.pyplot as plt\n",
    "from PIL import Image, ImageOps, ImageDraw, ImageEnhance\n",
    "\n",
    "from tensorflow.keras import backend as K\n",
    "from tensorflow.keras.preprocessing import image\n",
    "from tensorflow.keras.backend import resize_images\n",
    "from tensorflow.keras.models import Model, Sequential\n",
    "# from tensorflow.keras.applications.vgg16 import VGG16\n",
    "# from tensorflow.keras.applications.resnet50 import ResNet50\n",
    "# from tensorflow.keras.applications.vgg16 import preprocess_input, decode_predictions\n",
    "# from tensorflow.keras.applications.resnet50 import preprocess_input, decode_predictions\n",
    "from tensorflow.keras.applications.nasnet import preprocess_input, decode_predictions, NASNetLarge"
   ]
  },
  {
   "cell_type": "code",
   "execution_count": 7,
   "metadata": {
    "ExecuteTime": {
     "end_time": "2020-07-30T16:28:48.121110Z",
     "start_time": "2020-07-30T16:28:48.088088Z"
    }
   },
   "outputs": [],
   "source": [
    "with open(\"kay_data/kay_brain_responses_test_roi_list.pickle\", \"rb\") as input_file:\n",
    "    kay_brain_responses_test_roi_list = pickle.load(input_file)"
   ]
  },
  {
   "cell_type": "code",
   "execution_count": 2,
   "metadata": {
    "ExecuteTime": {
     "end_time": "2020-07-30T16:25:25.739543Z",
     "start_time": "2020-07-30T16:25:25.713539Z"
    }
   },
   "outputs": [],
   "source": [
    "with open(\"kay_data/stimuli_test_features.pickle\", \"rb\") as input_file:\n",
    "    stimuli_test_features = pickle.load(input_file)"
   ]
  },
  {
   "cell_type": "code",
   "execution_count": 3,
   "metadata": {
    "ExecuteTime": {
     "end_time": "2020-07-30T16:25:25.765544Z",
     "start_time": "2020-07-30T16:25:25.746548Z"
    }
   },
   "outputs": [],
   "source": [
    "with open(\"kay_data/all_voxels_test_responses.pickle\", \"rb\") as fp:\n",
    "    p_test = pickle.load(fp)"
   ]
  },
  {
   "cell_type": "code",
   "execution_count": 4,
   "metadata": {
    "ExecuteTime": {
     "end_time": "2020-07-30T16:25:27.280460Z",
     "start_time": "2020-07-30T16:25:25.776544Z"
    }
   },
   "outputs": [],
   "source": [
    "with open(\"kay_data/SparseLinearRegression_all_voxels.pickle\", \"rb\") as fp:\n",
    "    slr_model = pickle.load(fp)"
   ]
  },
  {
   "cell_type": "code",
   "execution_count": 31,
   "metadata": {
    "ExecuteTime": {
     "end_time": "2020-07-30T16:42:48.585931Z",
     "start_time": "2020-07-30T16:42:47.342444Z"
    }
   },
   "outputs": [],
   "source": [
    "with open(\"kay_data/LinearRegression_all_voxels.pickle\", \"rb\") as fp:\n",
    "    lr_model = pickle.load(fp)"
   ]
  },
  {
   "cell_type": "code",
   "execution_count": 5,
   "metadata": {
    "ExecuteTime": {
     "end_time": "2020-07-30T16:26:42.819657Z",
     "start_time": "2020-07-30T16:25:27.284461Z"
    }
   },
   "outputs": [
    {
     "name": "stdout",
     "output_type": "stream",
     "text": [
      "WARNING:tensorflow:From C:\\Users\\zkalyuzhner\\.conda\\envs\\neurot\\lib\\site-packages\\tensorflow\\python\\ops\\init_ops.py:1251: calling VarianceScaling.__init__ (from tensorflow.python.ops.init_ops) with dtype is deprecated and will be removed in a future version.\n",
      "Instructions for updating:\n",
      "Call initializer instance with the dtype argument instead of passing it to the constructor\n"
     ]
    }
   ],
   "source": [
    "model = NASNetLarge(weights='imagenet')"
   ]
  },
  {
   "cell_type": "code",
   "execution_count": null,
   "metadata": {
    "ExecuteTime": {
     "end_time": "2020-07-30T11:34:32.805119Z",
     "start_time": "2020-07-30T11:34:32.414126Z"
    }
   },
   "outputs": [],
   "source": [
    "model.summary()"
   ]
  },
  {
   "cell_type": "code",
   "execution_count": null,
   "metadata": {
    "ExecuteTime": {
     "end_time": "2020-07-30T11:35:57.315019Z",
     "start_time": "2020-07-30T11:35:57.296976Z"
    }
   },
   "outputs": [],
   "source": [
    "model.layers[-2], model.get_layer('global_average_pooling2d')"
   ]
  },
  {
   "cell_type": "code",
   "execution_count": null,
   "metadata": {
    "ExecuteTime": {
     "end_time": "2020-07-30T12:33:52.524676Z",
     "start_time": "2020-07-30T12:33:52.515676Z"
    }
   },
   "outputs": [],
   "source": [
    "model.layers[-2:]"
   ]
  },
  {
   "cell_type": "code",
   "execution_count": 8,
   "metadata": {
    "ExecuteTime": {
     "end_time": "2020-07-30T16:29:39.609698Z",
     "start_time": "2020-07-30T16:29:39.592625Z"
    }
   },
   "outputs": [],
   "source": [
    "m = Sequential()\n",
    "for layer in model.layers[-1:]:\n",
    "    m.add(layer)"
   ]
  },
  {
   "cell_type": "code",
   "execution_count": null,
   "metadata": {
    "ExecuteTime": {
     "end_time": "2020-07-30T12:33:53.969554Z",
     "start_time": "2020-07-30T12:33:53.052359Z"
    }
   },
   "outputs": [],
   "source": [
    "intermediate_output = m.predict(np.expand_dims(image_features, axis=0))"
   ]
  },
  {
   "cell_type": "code",
   "execution_count": null,
   "metadata": {
    "ExecuteTime": {
     "end_time": "2020-07-30T12:33:53.976322Z",
     "start_time": "2020-07-30T12:33:53.971325Z"
    }
   },
   "outputs": [],
   "source": [
    "intermediate_output.shape\n",
    "p = decode_predictions(intermediate_output, top=1)[0]"
   ]
  },
  {
   "cell_type": "code",
   "execution_count": null,
   "metadata": {
    "ExecuteTime": {
     "end_time": "2020-07-30T12:33:53.987346Z",
     "start_time": "2020-07-30T12:33:53.978322Z"
    }
   },
   "outputs": [],
   "source": [
    "p"
   ]
  },
  {
   "cell_type": "code",
   "execution_count": 39,
   "metadata": {
    "ExecuteTime": {
     "end_time": "2020-07-30T16:44:13.658906Z",
     "start_time": "2020-07-30T16:44:13.648902Z"
    }
   },
   "outputs": [
    {
     "data": {
      "text/plain": [
       "(1, 4032)"
      ]
     },
     "execution_count": 39,
     "metadata": {},
     "output_type": "execute_result"
    }
   ],
   "source": [
    "predicted_features_vectors.shape"
   ]
  },
  {
   "cell_type": "code",
   "execution_count": 48,
   "metadata": {
    "ExecuteTime": {
     "end_time": "2020-07-30T18:38:23.241286Z",
     "start_time": "2020-07-30T18:38:18.114666Z"
    },
    "scrolled": false
   },
   "outputs": [
    {
     "name": "stderr",
     "output_type": "stream",
     "text": [
      "C:\\Users\\zkalyuzhner\\.conda\\envs\\neurot\\lib\\site-packages\\ipykernel_launcher.py:4: TqdmDeprecationWarning: This function will be removed in tqdm==5.0.0\n",
      "Please use `tqdm.notebook.tqdm` instead of `tqdm.tqdm_notebook`\n",
      "  after removing the cwd from sys.path.\n"
     ]
    },
    {
     "data": {
      "application/vnd.jupyter.widget-view+json": {
       "model_id": "0314e2cc3c344b45ab01b7aabcd5e278",
       "version_major": 2,
       "version_minor": 0
      },
      "text/plain": [
       "HBox(children=(FloatProgress(value=1.0, bar_style='info', max=1.0), HTML(value='')))"
      ]
     },
     "metadata": {},
     "output_type": "display_data"
    },
    {
     "name": "stdout",
     "output_type": "stream",
     "text": [
      "stimuli_test_0_color_superes\n",
      "ImageNet class: steel_arch_bridge\n",
      "predicted class: [('n03126707', 'crane', 1.0)]\n",
      "\n",
      "stimuli_test_1_color_superes\n",
      "ImageNet class: trilobite\n",
      "predicted class: [('n04192698', 'shield', 1.0)]\n",
      "\n",
      "stimuli_test_2_color_superes\n",
      "ImageNet class: spoonbill\n",
      "predicted class: [('n04192698', 'shield', 1.0)]\n",
      "\n",
      "stimuli_test_3_color_superes\n",
      "ImageNet class: swab\n",
      "predicted class: [('n02950826', 'cannon', 1.0)]\n",
      "\n",
      "stimuli_test_4_color_superes\n",
      "ImageNet class: bell_pepper\n",
      "predicted class: [('n04192698', 'shield', 1.0)]\n",
      "\n",
      "stimuli_test_5_color_superes\n",
      "ImageNet class: radio_telescope\n",
      "predicted class: [('n04192698', 'shield', 1.0)]\n",
      "\n",
      "stimuli_test_6_color_superes\n",
      "ImageNet class: trench_coat\n",
      "predicted class: [('n02916936', 'bulletproof_vest', 1.0)]\n",
      "\n",
      "stimuli_test_7_color_superes\n",
      "ImageNet class: volcano\n",
      "predicted class: [('n04192698', 'shield', 1.0)]\n",
      "\n",
      "stimuli_test_8_color_superes\n",
      "ImageNet class: cornet\n",
      "predicted class: [('n02916936', 'bulletproof_vest', 1.0)]\n",
      "\n",
      "stimuli_test_9_color_superes\n",
      "ImageNet class: platypus\n",
      "predicted class: [('n04192698', 'shield', 1.0)]\n",
      "\n",
      "stimuli_test_10_color_superes\n",
      "ImageNet class: miniskirt\n",
      "predicted class: [('n04192698', 'shield', 1.0)]\n",
      "\n",
      "stimuli_test_11_color_superes\n",
      "ImageNet class: gorilla\n",
      "predicted class: [('n04192698', 'shield', 1.0)]\n",
      "\n",
      "stimuli_test_12_color_superes\n",
      "ImageNet class: ski\n",
      "predicted class: [('n04192698', 'shield', 1.0)]\n",
      "\n",
      "stimuli_test_13_color_superes\n",
      "ImageNet class: library\n",
      "predicted class: [('n13044778', 'earthstar', 1.0)]\n",
      "\n",
      "stimuli_test_14_color_superes\n",
      "ImageNet class: killer_whale\n",
      "predicted class: [('n09332890', 'lakeside', 1.0)]\n",
      "\n",
      "stimuli_test_15_color_superes\n",
      "ImageNet class: bighorn\n",
      "predicted class: [('n03529860', 'home_theater', 1.0)]\n",
      "\n",
      "stimuli_test_16_color_superes\n",
      "ImageNet class: overskirt\n",
      "predicted class: [('n09332890', 'lakeside', 1.0)]\n",
      "\n",
      "stimuli_test_17_color_superes\n",
      "ImageNet class: leopard\n",
      "predicted class: [('n13052670', 'hen-of-the-woods', 1.0)]\n",
      "\n",
      "stimuli_test_18_color_superes\n",
      "ImageNet class: oxygen_mask\n",
      "predicted class: [('n04192698', 'shield', 1.0)]\n",
      "\n",
      "stimuli_test_19_color_superes\n",
      "ImageNet class: oxcart\n",
      "predicted class: [('n09332890', 'lakeside', 1.0)]\n",
      "\n",
      "stimuli_test_20_color_superes\n",
      "ImageNet class: swab\n",
      "predicted class: [('n09332890', 'lakeside', 1.0)]\n",
      "\n",
      "stimuli_test_21_color_superes\n",
      "ImageNet class: shoji\n",
      "predicted class: [('n04192698', 'shield', 1.0)]\n",
      "\n",
      "stimuli_test_22_color_superes\n",
      "ImageNet class: stone_wall\n",
      "predicted class: [('n03529860', 'home_theater', 1.0)]\n",
      "\n",
      "stimuli_test_23_color_superes\n",
      "ImageNet class: academic_gown\n",
      "predicted class: [('n02950826', 'cannon', 1.0)]\n",
      "\n",
      "stimuli_test_24_color_superes\n",
      "ImageNet class: porcupine\n",
      "predicted class: [('n02916936', 'bulletproof_vest', 1.0)]\n",
      "\n",
      "stimuli_test_25_color_superes\n",
      "ImageNet class: American_black_bear\n",
      "predicted class: [('n09288635', 'geyser', 1.0)]\n",
      "\n",
      "stimuli_test_26_color_superes\n",
      "ImageNet class: cauliflower\n",
      "predicted class: [('n03633091', 'ladle', 1.0)]\n",
      "\n",
      "stimuli_test_27_color_superes\n",
      "ImageNet class: ski_mask\n",
      "predicted class: [('n04005630', 'prison', 1.0)]\n",
      "\n",
      "stimuli_test_28_color_superes\n",
      "ImageNet class: triumphal_arch\n",
      "predicted class: [('n04597913', 'wooden_spoon', 1.0)]\n",
      "\n",
      "stimuli_test_29_color_superes\n",
      "ImageNet class: window_screen\n",
      "predicted class: [('n02916936', 'bulletproof_vest', 1.0)]\n",
      "\n",
      "stimuli_test_30_color_superes\n",
      "ImageNet class: Bouvier_des_Flandres\n",
      "predicted class: [('n02916936', 'bulletproof_vest', 1.0)]\n",
      "\n",
      "stimuli_test_31_color_superes\n",
      "ImageNet class: promontory\n",
      "predicted class: [('n01601694', 'water_ouzel', 1.0)]\n",
      "\n",
      "stimuli_test_32_color_superes\n",
      "ImageNet class: African_elephant\n",
      "predicted class: [('n02916936', 'bulletproof_vest', 1.0)]\n",
      "\n",
      "stimuli_test_33_color_superes\n",
      "ImageNet class: kuvasz\n",
      "predicted class: [('n04597913', 'wooden_spoon', 1.0)]\n",
      "\n",
      "stimuli_test_34_color_superes\n",
      "ImageNet class: eel\n",
      "predicted class: [('n01601694', 'water_ouzel', 1.0)]\n",
      "\n",
      "stimuli_test_35_color_superes\n",
      "ImageNet class: gorilla\n",
      "predicted class: [('n09399592', 'promontory', 1.0)]\n",
      "\n",
      "stimuli_test_36_color_superes\n",
      "ImageNet class: seashore\n",
      "predicted class: [('n09332890', 'lakeside', 1.0)]\n",
      "\n",
      "stimuli_test_37_color_superes\n",
      "ImageNet class: leopard\n",
      "predicted class: [('n09332890', 'lakeside', 1.0)]\n",
      "\n",
      "stimuli_test_38_color_superes\n",
      "ImageNet class: lacewing\n",
      "predicted class: [('n09332890', 'lakeside', 1.0)]\n",
      "\n",
      "stimuli_test_39_color_superes\n",
      "ImageNet class: ballplayer\n",
      "predicted class: [('n09332890', 'lakeside', 1.0)]\n",
      "\n",
      "stimuli_test_40_color_superes\n",
      "ImageNet class: killer_whale\n",
      "predicted class: [('n02916936', 'bulletproof_vest', 1.0)]\n",
      "\n",
      "stimuli_test_41_color_superes\n",
      "ImageNet class: thatch\n",
      "predicted class: [('n09332890', 'lakeside', 1.0)]\n",
      "\n",
      "stimuli_test_42_color_superes\n",
      "ImageNet class: bannister\n",
      "predicted class: [('n09332890', 'lakeside', 1.0)]\n",
      "\n",
      "stimuli_test_43_color_superes\n",
      "ImageNet class: bannister\n",
      "predicted class: [('n09332890', 'lakeside', 1.0)]\n",
      "\n",
      "stimuli_test_44_color_superes\n",
      "ImageNet class: suit\n",
      "predicted class: [('n07768694', 'pomegranate', 1.0)]\n",
      "\n",
      "stimuli_test_45_color_superes\n",
      "ImageNet class: colobus\n",
      "predicted class: [('n07768694', 'pomegranate', 1.0)]\n",
      "\n",
      "stimuli_test_46_color_superes\n",
      "ImageNet class: ice_bear\n",
      "predicted class: [('n02398521', 'hippopotamus', 1.0)]\n",
      "\n",
      "stimuli_test_47_color_superes\n",
      "ImageNet class: warthog\n",
      "predicted class: [('n09332890', 'lakeside', 1.0)]\n",
      "\n",
      "stimuli_test_48_color_superes\n",
      "ImageNet class: velvet\n",
      "predicted class: [('n09332890', 'lakeside', 1.0)]\n",
      "\n",
      "stimuli_test_49_color_superes\n",
      "ImageNet class: geyser\n",
      "predicted class: [('n09468604', 'valley', 1.0)]\n",
      "\n",
      "stimuli_test_50_color_superes\n",
      "ImageNet class: earthstar\n",
      "predicted class: [('n03272562', 'electric_locomotive', 1.0)]\n",
      "\n",
      "stimuli_test_51_color_superes\n",
      "ImageNet class: dough\n",
      "predicted class: [('n09399592', 'promontory', 1.0)]\n",
      "\n",
      "stimuli_test_52_color_superes\n",
      "ImageNet class: night_snake\n",
      "predicted class: [('n03529860', 'home_theater', 1.0)]\n",
      "\n",
      "stimuli_test_53_color_superes\n",
      "ImageNet class: Indian_elephant\n",
      "predicted class: [('n09332890', 'lakeside', 1.0)]\n",
      "\n",
      "stimuli_test_54_color_superes\n",
      "ImageNet class: tiger\n",
      "predicted class: [('n03529860', 'home_theater', 1.0)]\n",
      "\n",
      "stimuli_test_55_color_superes\n",
      "ImageNet class: breakwater\n",
      "predicted class: [('n09332890', 'lakeside', 1.0)]\n",
      "\n",
      "stimuli_test_56_color_superes\n",
      "ImageNet class: palace\n",
      "predicted class: [('n09332890', 'lakeside', 1.0)]\n",
      "\n",
      "stimuli_test_57_color_superes\n",
      "ImageNet class: stove\n",
      "predicted class: [('n09332890', 'lakeside', 1.0)]\n",
      "\n",
      "stimuli_test_58_color_superes\n",
      "ImageNet class: buckeye\n",
      "predicted class: [('n09332890', 'lakeside', 1.0)]\n",
      "\n",
      "stimuli_test_59_color_superes\n",
      "ImageNet class: bald_eagle\n",
      "predicted class: [('n09332890', 'lakeside', 1.0)]\n",
      "\n",
      "stimuli_test_60_color_superes\n",
      "ImageNet class: hoopskirt\n",
      "predicted class: [('n09399592', 'promontory', 1.0)]\n",
      "\n",
      "stimuli_test_61_color_superes\n",
      "ImageNet class: suit\n",
      "predicted class: [('n02950826', 'cannon', 1.0)]\n",
      "\n",
      "stimuli_test_62_color_superes\n",
      "ImageNet class: garter_snake\n",
      "predicted class: [('n03529860', 'home_theater', 1.0)]\n",
      "\n",
      "stimuli_test_63_color_superes\n",
      "ImageNet class: gondola\n",
      "predicted class: [('n02916936', 'bulletproof_vest', 1.0)]\n",
      "\n",
      "stimuli_test_64_color_superes\n",
      "ImageNet class: buckeye\n",
      "predicted class: [('n13052670', 'hen-of-the-woods', 1.0)]\n",
      "\n",
      "stimuli_test_65_color_superes\n",
      "ImageNet class: trilobite\n",
      "predicted class: [('n02916936', 'bulletproof_vest', 1.0)]\n",
      "\n",
      "stimuli_test_66_color_superes\n",
      "ImageNet class: vault\n",
      "predicted class: [('n04192698', 'shield', 1.0)]\n",
      "\n",
      "stimuli_test_67_color_superes\n",
      "ImageNet class: fur_coat\n",
      "predicted class: [('n04192698', 'shield', 1.0)]\n",
      "\n",
      "stimuli_test_68_color_superes\n",
      "ImageNet class: hen-of-the-woods\n",
      "predicted class: [('n13044778', 'earthstar', 1.0)]\n",
      "\n",
      "stimuli_test_69_color_superes\n",
      "ImageNet class: warthog\n",
      "predicted class: [('n03709823', 'mailbag', 1.0)]\n",
      "\n",
      "stimuli_test_70_color_superes\n",
      "ImageNet class: seashore\n",
      "predicted class: [('n09332890', 'lakeside', 1.0)]\n",
      "\n",
      "stimuli_test_71_color_superes\n",
      "ImageNet class: bighorn\n",
      "predicted class: [('n09399592', 'promontory', 1.0)]\n",
      "\n",
      "stimuli_test_72_color_superes\n",
      "ImageNet class: howler_monkey\n",
      "predicted class: [('n04597913', 'wooden_spoon', 1.0)]\n",
      "\n",
      "stimuli_test_73_color_superes\n",
      "ImageNet class: king_snake\n",
      "predicted class: [('n04192698', 'shield', 1.0)]\n",
      "\n",
      "stimuli_test_74_color_superes\n",
      "ImageNet class: fountain\n",
      "predicted class: [('n01601694', 'water_ouzel', 1.0)]\n",
      "\n",
      "stimuli_test_75_color_superes\n",
      "ImageNet class: warplane\n",
      "predicted class: [('n03216828', 'dock', 1.0)]\n",
      "\n",
      "stimuli_test_76_color_superes\n",
      "ImageNet class: titi\n",
      "predicted class: [('n09332890', 'lakeside', 1.0)]\n",
      "\n",
      "stimuli_test_77_color_superes\n",
      "ImageNet class: Dungeness_crab\n",
      "predicted class: [('n09332890', 'lakeside', 1.0)]\n",
      "\n",
      "stimuli_test_78_color_superes\n",
      "ImageNet class: window_shade\n",
      "predicted class: [('n03781244', 'monastery', 1.0)]\n",
      "\n",
      "stimuli_test_79_color_superes\n",
      "ImageNet class: wolf_spider\n",
      "predicted class: [('n09332890', 'lakeside', 1.0)]\n",
      "\n",
      "stimuli_test_80_color_superes\n",
      "ImageNet class: bell_cote\n"
     ]
    },
    {
     "name": "stdout",
     "output_type": "stream",
     "text": [
      "predicted class: [('n03216828', 'dock', 1.0)]\n",
      "\n",
      "stimuli_test_81_color_superes\n",
      "ImageNet class: bighorn\n",
      "predicted class: [('n04005630', 'prison', 1.0)]\n",
      "\n",
      "stimuli_test_82_color_superes\n",
      "ImageNet class: damselfly\n",
      "predicted class: [('n02916936', 'bulletproof_vest', 1.0)]\n",
      "\n",
      "stimuli_test_83_color_superes\n",
      "ImageNet class: bell_cote\n",
      "predicted class: [('n04192698', 'shield', 1.0)]\n",
      "\n",
      "stimuli_test_84_color_superes\n",
      "ImageNet class: leopard\n",
      "predicted class: [('n03216828', 'dock', 1.0)]\n",
      "\n",
      "stimuli_test_85_color_superes\n",
      "ImageNet class: dogsled\n",
      "predicted class: [('n09332890', 'lakeside', 1.0)]\n",
      "\n",
      "stimuli_test_86_color_superes\n",
      "ImageNet class: street_sign\n",
      "predicted class: [('n03126707', 'crane', 1.0)]\n",
      "\n",
      "stimuli_test_87_color_superes\n",
      "ImageNet class: military_uniform\n",
      "predicted class: [('n03126707', 'crane', 1.0)]\n",
      "\n",
      "stimuli_test_88_color_superes\n",
      "ImageNet class: Arabian_camel\n",
      "predicted class: [('n09332890', 'lakeside', 1.0)]\n",
      "\n",
      "stimuli_test_89_color_superes\n",
      "ImageNet class: acorn_squash\n",
      "predicted class: [('n09332890', 'lakeside', 1.0)]\n",
      "\n",
      "stimuli_test_90_color_superes\n",
      "ImageNet class: sea_lion\n",
      "predicted class: [('n09332890', 'lakeside', 1.0)]\n",
      "\n",
      "stimuli_test_91_color_superes\n",
      "ImageNet class: head_cabbage\n",
      "predicted class: [('n04005630', 'prison', 1.0)]\n",
      "\n",
      "stimuli_test_92_color_superes\n",
      "ImageNet class: stupa\n",
      "predicted class: [('n09332890', 'lakeside', 1.0)]\n",
      "\n",
      "stimuli_test_93_color_superes\n",
      "ImageNet class: cliff\n",
      "predicted class: [('n09468604', 'valley', 1.0)]\n",
      "\n",
      "stimuli_test_94_color_superes\n",
      "ImageNet class: triumphal_arch\n",
      "predicted class: [('n03933933', 'pier', 1.0)]\n",
      "\n",
      "stimuli_test_95_color_superes\n",
      "ImageNet class: triumphal_arch\n",
      "predicted class: [('n04192698', 'shield', 1.0)]\n",
      "\n",
      "stimuli_test_96_color_superes\n",
      "ImageNet class: kite\n",
      "predicted class: [('n02132136', 'brown_bear', 1.0)]\n",
      "\n",
      "stimuli_test_97_color_superes\n",
      "ImageNet class: viaduct\n",
      "predicted class: [('n02441942', 'weasel', 1.0)]\n",
      "\n",
      "stimuli_test_98_color_superes\n",
      "ImageNet class: ram\n",
      "predicted class: [('n04192698', 'shield', 1.0)]\n",
      "\n",
      "stimuli_test_99_color_superes\n",
      "ImageNet class: titi\n",
      "predicted class: [('n02916936', 'bulletproof_vest', 1.0)]\n",
      "\n",
      "stimuli_test_100_color_superes\n",
      "ImageNet class: custard_apple\n",
      "predicted class: [('n04192698', 'shield', 1.0)]\n",
      "\n",
      "stimuli_test_101_color_superes\n",
      "ImageNet class: horned_viper\n",
      "predicted class: [('n04192698', 'shield', 1.0)]\n",
      "\n",
      "stimuli_test_102_color_superes\n",
      "ImageNet class: gown\n",
      "predicted class: [('n04192698', 'shield', 1.0)]\n",
      "\n",
      "stimuli_test_103_color_superes\n",
      "ImageNet class: stone_wall\n",
      "predicted class: [('n02441942', 'weasel', 1.0)]\n",
      "\n",
      "stimuli_test_104_color_superes\n",
      "ImageNet class: alp\n",
      "predicted class: [('n04192698', 'shield', 1.0)]\n",
      "\n",
      "stimuli_test_105_color_superes\n",
      "ImageNet class: ping-pong_ball\n",
      "predicted class: [('n04192698', 'shield', 1.0)]\n",
      "\n",
      "stimuli_test_106_color_superes\n",
      "ImageNet class: cliff\n",
      "predicted class: [('n04192698', 'shield', 1.0)]\n",
      "\n",
      "stimuli_test_107_color_superes\n",
      "ImageNet class: vault\n",
      "predicted class: [('n02672831', 'accordion', 1.0)]\n",
      "\n",
      "stimuli_test_108_color_superes\n",
      "ImageNet class: palace\n",
      "predicted class: [('n09332890', 'lakeside', 1.0)]\n",
      "\n",
      "stimuli_test_109_color_superes\n",
      "ImageNet class: rifle\n",
      "predicted class: [('n09472597', 'volcano', 1.0)]\n",
      "\n",
      "stimuli_test_110_color_superes\n",
      "ImageNet class: lemon\n",
      "predicted class: [('n09332890', 'lakeside', 1.0)]\n",
      "\n",
      "stimuli_test_111_color_superes\n",
      "ImageNet class: banded_gecko\n",
      "predicted class: [('n04192698', 'shield', 1.0)]\n",
      "\n",
      "stimuli_test_112_color_superes\n",
      "ImageNet class: common_newt\n",
      "predicted class: [('n03529860', 'home_theater', 1.0)]\n",
      "\n",
      "stimuli_test_113_color_superes\n",
      "ImageNet class: buckeye\n",
      "predicted class: [('n09332890', 'lakeside', 1.0)]\n",
      "\n",
      "stimuli_test_114_color_superes\n",
      "ImageNet class: castle\n",
      "predicted class: [('n09332890', 'lakeside', 1.0)]\n",
      "\n",
      "stimuli_test_115_color_superes\n",
      "ImageNet class: hippopotamus\n",
      "predicted class: [('n13052670', 'hen-of-the-woods', 1.0)]\n",
      "\n",
      "stimuli_test_116_color_superes\n",
      "ImageNet class: tub\n",
      "predicted class: [('n13052670', 'hen-of-the-woods', 1.0)]\n",
      "\n",
      "stimuli_test_117_color_superes\n",
      "ImageNet class: castle\n",
      "predicted class: [('n03529860', 'home_theater', 1.0)]\n",
      "\n",
      "stimuli_test_118_color_superes\n",
      "ImageNet class: valley\n",
      "predicted class: [('n09332890', 'lakeside', 1.0)]\n",
      "\n",
      "stimuli_test_119_color_superes\n",
      "ImageNet class: ice_bear\n",
      "predicted class: [('n09332890', 'lakeside', 1.0)]\n",
      "\n",
      "\n"
     ]
    }
   ],
   "source": [
    "x_test = list()\n",
    "y_test = list()\n",
    "\n",
    "for i, res_roi in tqdm_notebook(enumerate(kay_brain_responses_test_roi_list)):\n",
    "#     if i > 100: break\n",
    "    img_name = 'stimuli_test_{0}_color_superes'.format(i)\n",
    "    stimuli = stimuli_test_features[img_name]\n",
    "    imagenet_label = stimuli[0][0]\n",
    "    imagenet_class = stimuli[0][1]\n",
    "    imagenet_score = stimuli[0][2]\n",
    "    image_features = stimuli[1]\n",
    "    \n",
    "    res = res_roi[0]\n",
    "    roi = res_roi[1]\n",
    "    \n",
    "#     predicted_features_vectors = slr_model.predict(np.array([res]))\n",
    "    predicted_features_vectors = lr_model.predict([res])\n",
    "    \n",
    "#     intermediate_output = m.predict(np.expand_dims(predicted_features_vectors, axis=0))\n",
    "    intermediate_output = m.predict(predicted_features_vectors)\n",
    "    predicted_classes = decode_predictions(intermediate_output, top=1)[0]\n",
    "    print('{}\\nImageNet class: {}\\npredicted class: {}'.format(img_name, imagenet_class, predicted_classes))\n",
    "    \n",
    "#     print(img_name, predicted_classes, imagenet_label, imagenet_class)\n",
    "    print()\n",
    "    \n",
    "#     x_test.append(res)\n",
    "#     y_test.append(image_features)\n",
    "\n",
    "# x_test = np.array(x_test)\n",
    "# y_test = np.array(y_test)\n",
    "# x_test.shape, y_test.shape"
   ]
  },
  {
   "cell_type": "code",
   "execution_count": 18,
   "metadata": {
    "ExecuteTime": {
     "end_time": "2020-07-30T16:35:10.788013Z",
     "start_time": "2020-07-30T16:35:10.781028Z"
    }
   },
   "outputs": [
    {
     "data": {
      "text/plain": [
       "('stimuli_test_0_color_superes',\n",
       " [('n03126707', 'crane', 1.0),\n",
       "  ('n15075141', 'toilet_tissue', 0.0),\n",
       "  ('n02396427', 'wild_boar', 0.0)],\n",
       " 'n04311004',\n",
       " 'steel_arch_bridge')"
      ]
     },
     "execution_count": 18,
     "metadata": {},
     "output_type": "execute_result"
    }
   ],
   "source": [
    "img_name, predicted_classes, imagenet_label, imagenet_class"
   ]
  },
  {
   "cell_type": "code",
   "execution_count": null,
   "metadata": {},
   "outputs": [],
   "source": []
  }
 ],
 "metadata": {
  "kernelspec": {
   "display_name": "Python 3",
   "language": "python",
   "name": "python3"
  },
  "language_info": {
   "codemirror_mode": {
    "name": "ipython",
    "version": 3
   },
   "file_extension": ".py",
   "mimetype": "text/x-python",
   "name": "python",
   "nbconvert_exporter": "python",
   "pygments_lexer": "ipython3",
   "version": "3.7.7"
  }
 },
 "nbformat": 4,
 "nbformat_minor": 4
}
