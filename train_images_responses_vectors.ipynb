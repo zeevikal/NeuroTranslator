{
 "cells": [
  {
   "cell_type": "code",
   "execution_count": 1,
   "metadata": {
    "ExecuteTime": {
     "end_time": "2020-07-30T15:47:43.000043Z",
     "start_time": "2020-07-30T15:47:38.546882Z"
    }
   },
   "outputs": [],
   "source": [
    "import os\n",
    "import cv2\n",
    "import slir\n",
    "import glob\n",
    "import h5py\n",
    "import pickle\n",
    "import numpy as np\n",
    "import pandas as pd\n",
    "from bdpy import BData\n",
    "from tqdm import tqdm_notebook\n",
    "import matplotlib.pyplot as plt\n",
    "from sklearn import linear_model\n",
    "from sklearn.metrics.pairwise import cosine_similarity\n",
    "\n",
    "np.set_printoptions(suppress=True)"
   ]
  },
  {
   "cell_type": "code",
   "execution_count": 2,
   "metadata": {
    "ExecuteTime": {
     "end_time": "2020-07-30T15:47:43.284007Z",
     "start_time": "2020-07-30T15:47:43.002013Z"
    }
   },
   "outputs": [],
   "source": [
    "with open(\"kay_data/kay_brain_responses_roi_list.pickle\", \"rb\") as input_file:\n",
    "    kay_brain_responses_roi_list = pickle.load(input_file)"
   ]
  },
  {
   "cell_type": "code",
   "execution_count": 3,
   "metadata": {
    "ExecuteTime": {
     "end_time": "2020-07-30T15:47:43.353012Z",
     "start_time": "2020-07-30T15:47:43.287045Z"
    }
   },
   "outputs": [],
   "source": [
    "with open(\"kay_data/stimuli_features.pickle\", \"rb\") as input_file:\n",
    "    stimuli_features = pickle.load(input_file)"
   ]
  },
  {
   "cell_type": "code",
   "execution_count": 4,
   "metadata": {
    "ExecuteTime": {
     "end_time": "2020-07-30T15:47:43.591009Z",
     "start_time": "2020-07-30T15:47:43.356006Z"
    }
   },
   "outputs": [
    {
     "data": {
      "text/plain": [
       "[<matplotlib.lines.Line2D at 0x2142e9f5e08>]"
      ]
     },
     "execution_count": 4,
     "metadata": {},
     "output_type": "execute_result"
    },
    {
     "data": {
      "image/png": "[encoded data removed]",
      "text/plain": [
       "<Figure size 432x288 with 1 Axes>"
      ]
     },
     "metadata": {
      "needs_background": "light"
     },
     "output_type": "display_data"
    }
   ],
   "source": [
    "plt.plot(stimuli_features['stimuli_0_color_superes'][1])"
   ]
  },
  {
   "cell_type": "code",
   "execution_count": 5,
   "metadata": {
    "ExecuteTime": {
     "end_time": "2020-07-30T15:47:43.598012Z",
     "start_time": "2020-07-30T15:47:43.594010Z"
    }
   },
   "outputs": [],
   "source": [
    "x = list()\n",
    "y = list()"
   ]
  },
  {
   "cell_type": "code",
   "execution_count": 6,
   "metadata": {
    "ExecuteTime": {
     "end_time": "2020-07-30T15:47:43.785013Z",
     "start_time": "2020-07-30T15:47:43.601010Z"
    }
   },
   "outputs": [
    {
     "name": "stderr",
     "output_type": "stream",
     "text": [
      "C:\\Users\\zkalyuzhner\\.conda\\envs\\neurot\\lib\\site-packages\\ipykernel_launcher.py:1: TqdmDeprecationWarning: This function will be removed in tqdm==5.0.0\n",
      "Please use `tqdm.notebook.tqdm` instead of `tqdm.tqdm_notebook`\n",
      "  \"\"\"Entry point for launching an IPython kernel.\n"
     ]
    },
    {
     "data": {
      "application/vnd.jupyter.widget-view+json": {
       "model_id": "93179b98e0434c3ab5d274ef64d95015",
       "version_major": 2,
       "version_minor": 0
      },
      "text/plain": [
       "HBox(children=(FloatProgress(value=1.0, bar_style='info', max=1.0), HTML(value='')))"
      ]
     },
     "metadata": {},
     "output_type": "display_data"
    },
    {
     "name": "stdout",
     "output_type": "stream",
     "text": [
      "\n"
     ]
    }
   ],
   "source": [
    "for i, res_roi in tqdm_notebook(enumerate(kay_brain_responses_roi_list)):\n",
    "    stimuli = stimuli_features['stimuli_{0}_color_superes'.format(i)]\n",
    "    imagenet_label = stimuli[0][0]\n",
    "    imagenet_class = stimuli[0][1]\n",
    "    imagenet_score = stimuli[0][2]\n",
    "    image_features = stimuli[1]\n",
    "    \n",
    "    res = res_roi[0]\n",
    "    roi = res_roi[1]\n",
    "    \n",
    "    x.append(res)\n",
    "    y.append(image_features)\n",
    "#     print(i, res_roi)\n",
    "#     print(imagenet_class, imagenet_label, imagenet_score)\n",
    "#     print(image_features)\n",
    "#     print(res, roi)"
   ]
  },
  {
   "cell_type": "code",
   "execution_count": 7,
   "metadata": {
    "ExecuteTime": {
     "end_time": "2020-07-30T15:47:43.928639Z",
     "start_time": "2020-07-30T15:47:43.788012Z"
    }
   },
   "outputs": [
    {
     "data": {
      "text/plain": [
       "((1750, 8428), (1750, 4032))"
      ]
     },
     "execution_count": 7,
     "metadata": {},
     "output_type": "execute_result"
    }
   ],
   "source": [
    "x = np.array(x)\n",
    "y = np.array(y)\n",
    "x.shape, y.shape"
   ]
  },
  {
   "cell_type": "code",
   "execution_count": 8,
   "metadata": {
    "ExecuteTime": {
     "end_time": "2020-07-30T15:47:44.905093Z",
     "start_time": "2020-07-30T15:47:44.900093Z"
    }
   },
   "outputs": [],
   "source": [
    "model = linear_model.LinearRegression(n_jobs=-1)\n",
    "# model = slir.SparseLinearRegression(verbose=1)"
   ]
  },
  {
   "cell_type": "code",
   "execution_count": 9,
   "metadata": {
    "ExecuteTime": {
     "end_time": "2020-07-30T15:48:25.283583Z",
     "start_time": "2020-07-30T15:47:45.844111Z"
    }
   },
   "outputs": [
    {
     "data": {
      "text/plain": [
       "LinearRegression(n_jobs=-1)"
      ]
     },
     "execution_count": 9,
     "metadata": {},
     "output_type": "execute_result"
    }
   ],
   "source": [
    "model.fit(x, y)"
   ]
  },
  {
   "cell_type": "code",
   "execution_count": 10,
   "metadata": {
    "ExecuteTime": {
     "end_time": "2020-07-30T15:48:27.049718Z",
     "start_time": "2020-07-30T15:48:25.292584Z"
    }
   },
   "outputs": [],
   "source": [
    "with open(\"kay_data/LinearRegression_all_voxels.pickle\", \"wb\") as fp:\n",
    "    pickle.dump(model, fp)"
   ]
  },
  {
   "cell_type": "code",
   "execution_count": 11,
   "metadata": {
    "ExecuteTime": {
     "end_time": "2020-07-30T15:48:29.283751Z",
     "start_time": "2020-07-30T15:48:27.058722Z"
    }
   },
   "outputs": [],
   "source": [
    "# p = model.predict([x[15]])\n",
    "p = model.predict(x)"
   ]
  },
  {
   "cell_type": "code",
   "execution_count": 12,
   "metadata": {
    "ExecuteTime": {
     "end_time": "2020-07-30T15:48:29.301758Z",
     "start_time": "2020-07-30T15:48:29.290755Z"
    }
   },
   "outputs": [
    {
     "data": {
      "text/plain": [
       "((1750, 4032), (1750, 4032))"
      ]
     },
     "execution_count": 12,
     "metadata": {},
     "output_type": "execute_result"
    }
   ],
   "source": [
    "# 1750 * 4032\n",
    "p.shape, y.shape"
   ]
  },
  {
   "cell_type": "code",
   "execution_count": null,
   "metadata": {
    "ExecuteTime": {
     "end_time": "2020-07-30T15:45:48.980198Z",
     "start_time": "2020-07-30T15:45:48.971197Z"
    }
   },
   "outputs": [],
   "source": [
    "p = p.reshape((1750, 4032))\n",
    "p.shape"
   ]
  },
  {
   "cell_type": "code",
   "execution_count": null,
   "metadata": {
    "ExecuteTime": {
     "end_time": "2020-07-28T12:30:04.840406Z",
     "start_time": "2020-07-28T12:30:04.834451Z"
    }
   },
   "outputs": [],
   "source": [
    "x[15], y[15]"
   ]
  },
  {
   "cell_type": "code",
   "execution_count": null,
   "metadata": {
    "ExecuteTime": {
     "end_time": "2020-07-28T12:30:05.465522Z",
     "start_time": "2020-07-28T12:30:05.014529Z"
    }
   },
   "outputs": [],
   "source": [
    "cosine_similarity(p, y)\n",
    "# cosine_similarity([pr[15], y[15]])"
   ]
  },
  {
   "cell_type": "code",
   "execution_count": 13,
   "metadata": {
    "ExecuteTime": {
     "end_time": "2020-07-30T15:48:30.201303Z",
     "start_time": "2020-07-30T15:48:29.310759Z"
    }
   },
   "outputs": [
    {
     "name": "stderr",
     "output_type": "stream",
     "text": [
      "C:\\Users\\zkalyuzhner\\.conda\\envs\\neurot\\lib\\site-packages\\ipykernel_launcher.py:2: TqdmDeprecationWarning: This function will be removed in tqdm==5.0.0\n",
      "Please use `tqdm.notebook.tqdm` instead of `tqdm.tqdm_notebook`\n",
      "  \n"
     ]
    },
    {
     "data": {
      "application/vnd.jupyter.widget-view+json": {
       "model_id": "8597599a82ea4183a7383a4440d46469",
       "version_major": 2,
       "version_minor": 0
      },
      "text/plain": [
       "HBox(children=(FloatProgress(value=1.0, bar_style='info', max=1.0), HTML(value='')))"
      ]
     },
     "metadata": {},
     "output_type": "display_data"
    },
    {
     "name": "stdout",
     "output_type": "stream",
     "text": [
      "\n"
     ]
    },
    {
     "data": {
      "text/plain": [
       "array([[1.        , 0.99048148],\n",
       "       [0.99048148, 1.        ]])"
      ]
     },
     "execution_count": 13,
     "metadata": {},
     "output_type": "execute_result"
    }
   ],
   "source": [
    "sim = list()\n",
    "for i, y_ in tqdm_notebook(enumerate(y)):\n",
    "    sim.append(cosine_similarity([p[i], y_]))\n",
    "sum(sim) / len(sim)"
   ]
  },
  {
   "cell_type": "markdown",
   "metadata": {},
   "source": [
    "### test"
   ]
  },
  {
   "cell_type": "code",
   "execution_count": 14,
   "metadata": {
    "ExecuteTime": {
     "end_time": "2020-07-30T15:48:30.213306Z",
     "start_time": "2020-07-30T15:48:30.208303Z"
    }
   },
   "outputs": [],
   "source": [
    "x_test = list()\n",
    "y_test = list()"
   ]
  },
  {
   "cell_type": "code",
   "execution_count": 15,
   "metadata": {
    "ExecuteTime": {
     "end_time": "2020-07-30T15:48:30.248298Z",
     "start_time": "2020-07-30T15:48:30.217302Z"
    }
   },
   "outputs": [],
   "source": [
    "with open(\"kay_data/kay_brain_responses_test_roi_list.pickle\", \"rb\") as input_file:\n",
    "    kay_brain_responses_test_roi_list = pickle.load(input_file)"
   ]
  },
  {
   "cell_type": "code",
   "execution_count": 16,
   "metadata": {
    "ExecuteTime": {
     "end_time": "2020-07-30T15:48:30.266306Z",
     "start_time": "2020-07-30T15:48:30.252302Z"
    }
   },
   "outputs": [],
   "source": [
    "with open(\"kay_data/stimuli_test_features.pickle\", \"rb\") as input_file:\n",
    "    stimuli_test_features = pickle.load(input_file)"
   ]
  },
  {
   "cell_type": "code",
   "execution_count": 17,
   "metadata": {
    "ExecuteTime": {
     "end_time": "2020-07-30T15:48:30.364315Z",
     "start_time": "2020-07-30T15:48:30.272311Z"
    }
   },
   "outputs": [
    {
     "name": "stderr",
     "output_type": "stream",
     "text": [
      "C:\\Users\\zkalyuzhner\\.conda\\envs\\neurot\\lib\\site-packages\\ipykernel_launcher.py:1: TqdmDeprecationWarning: This function will be removed in tqdm==5.0.0\n",
      "Please use `tqdm.notebook.tqdm` instead of `tqdm.tqdm_notebook`\n",
      "  \"\"\"Entry point for launching an IPython kernel.\n"
     ]
    },
    {
     "data": {
      "application/vnd.jupyter.widget-view+json": {
       "model_id": "6b1df1017f78406a96d42318d2c47746",
       "version_major": 2,
       "version_minor": 0
      },
      "text/plain": [
       "HBox(children=(FloatProgress(value=1.0, bar_style='info', max=1.0), HTML(value='')))"
      ]
     },
     "metadata": {},
     "output_type": "display_data"
    },
    {
     "name": "stdout",
     "output_type": "stream",
     "text": [
      "\n"
     ]
    }
   ],
   "source": [
    "for i, res_roi in tqdm_notebook(enumerate(kay_brain_responses_test_roi_list)):\n",
    "    stimuli = stimuli_test_features['stimuli_test_{0}_color_superes'.format(i)]\n",
    "    imagenet_label = stimuli[0][0]\n",
    "    imagenet_class = stimuli[0][1]\n",
    "    imagenet_score = stimuli[0][2]\n",
    "    image_features = stimuli[1]\n",
    "    \n",
    "    res = res_roi[0]\n",
    "    roi = res_roi[1]\n",
    "    \n",
    "    x_test.append(res)\n",
    "    y_test.append(image_features)\n",
    "#     print(i, res_roi)\n",
    "#     print(imagenet_class, imagenet_label, imagenet_score)\n",
    "#     print(image_features)\n",
    "#     print(res, roi)"
   ]
  },
  {
   "cell_type": "code",
   "execution_count": 23,
   "metadata": {
    "ExecuteTime": {
     "end_time": "2020-07-30T17:49:37.068247Z",
     "start_time": "2020-07-30T17:49:36.155283Z"
    }
   },
   "outputs": [
    {
     "data": {
      "text/plain": [
       "((1750, 8428), (1750, 4032), (120, 8428), (120, 4032))"
      ]
     },
     "execution_count": 23,
     "metadata": {},
     "output_type": "execute_result"
    }
   ],
   "source": [
    "x = np.array(x)\n",
    "y = np.array(y)\n",
    "\n",
    "x_test = np.array(x_test)\n",
    "y_test = np.array(y_test)\n",
    "x.shape, y.shape, x_test.shape, y_test.shape"
   ]
  },
  {
   "cell_type": "code",
   "execution_count": 19,
   "metadata": {
    "ExecuteTime": {
     "end_time": "2020-07-30T15:48:30.613310Z",
     "start_time": "2020-07-30T15:48:30.401313Z"
    }
   },
   "outputs": [],
   "source": [
    "p = model.predict(x_test)\n",
    "# ptest = model.predict(x_test)"
   ]
  },
  {
   "cell_type": "code",
   "execution_count": null,
   "metadata": {
    "ExecuteTime": {
     "end_time": "2020-07-30T15:46:55.952746Z",
     "start_time": "2020-07-30T15:46:55.947712Z"
    }
   },
   "outputs": [],
   "source": [
    "p = p.reshape((120, 4032))\n",
    "p.shape"
   ]
  },
  {
   "cell_type": "code",
   "execution_count": null,
   "metadata": {
    "ExecuteTime": {
     "end_time": "2020-07-28T12:39:40.119736Z",
     "start_time": "2020-07-28T12:39:40.113735Z"
    }
   },
   "outputs": [],
   "source": [
    "x_test[10], y_test[10]"
   ]
  },
  {
   "cell_type": "code",
   "execution_count": null,
   "metadata": {
    "ExecuteTime": {
     "end_time": "2020-07-28T11:42:10.621570Z",
     "start_time": "2020-07-28T11:42:10.611613Z"
    }
   },
   "outputs": [],
   "source": [
    "cosine_similarity([p[0], y_test[10]])\n",
    "# cosine_similarity([ptestr[10], y_test[10]])"
   ]
  },
  {
   "cell_type": "code",
   "execution_count": 20,
   "metadata": {
    "ExecuteTime": {
     "end_time": "2020-07-30T15:48:30.847314Z",
     "start_time": "2020-07-30T15:48:30.617310Z"
    }
   },
   "outputs": [
    {
     "name": "stderr",
     "output_type": "stream",
     "text": [
      "C:\\Users\\zkalyuzhner\\.conda\\envs\\neurot\\lib\\site-packages\\ipykernel_launcher.py:4: TqdmDeprecationWarning: This function will be removed in tqdm==5.0.0\n",
      "Please use `tqdm.notebook.tqdm` instead of `tqdm.tqdm_notebook`\n",
      "  after removing the cwd from sys.path.\n"
     ]
    },
    {
     "data": {
      "application/vnd.jupyter.widget-view+json": {
       "model_id": "5639f304bf2f46cea5d8f51f270f8727",
       "version_major": 2,
       "version_minor": 0
      },
      "text/plain": [
       "HBox(children=(FloatProgress(value=1.0, bar_style='info', max=1.0), HTML(value='')))"
      ]
     },
     "metadata": {},
     "output_type": "display_data"
    },
    {
     "name": "stdout",
     "output_type": "stream",
     "text": [
      "\n"
     ]
    },
    {
     "data": {
      "text/plain": [
       "(-0.0018173112174446828, 0.008809537023677018)"
      ]
     },
     "execution_count": 20,
     "metadata": {},
     "output_type": "execute_result"
    }
   ],
   "source": [
    "simil_list = list() \n",
    "corrcoef_list = list() \n",
    "\n",
    "for i, y_ in tqdm_notebook(enumerate(y_test)):\n",
    "    simil_list.append(cosine_similarity([p[i], y_])[0][1])\n",
    "    corrcoef_list.append(np.corrcoef(p[i], y_)[0][1])\n",
    "sum(simil_list) / len(corrcoef_list), sum(corrcoef_list) / len(corrcoef_list)"
   ]
  },
  {
   "cell_type": "code",
   "execution_count": 22,
   "metadata": {
    "ExecuteTime": {
     "end_time": "2020-07-30T16:23:19.801827Z",
     "start_time": "2020-07-30T16:23:19.780721Z"
    }
   },
   "outputs": [],
   "source": [
    "with open(\"kay_data/all_voxels_test_responses.pickle\", \"wb\") as fp:\n",
    "    pickle.dump(p, fp)"
   ]
  },
  {
   "cell_type": "code",
   "execution_count": null,
   "metadata": {
    "ExecuteTime": {
     "end_time": "2020-07-28T11:42:43.896715Z",
     "start_time": "2020-07-28T11:42:43.889715Z"
    }
   },
   "outputs": [],
   "source": [
    "# np.corrcoef(ptestr[10], y_test[10])\n",
    "np.corrcoef(p[0], y_test[10])"
   ]
  },
  {
   "cell_type": "code",
   "execution_count": null,
   "metadata": {
    "ExecuteTime": {
     "end_time": "2020-07-30T15:47:05.767417Z",
     "start_time": "2020-07-30T15:47:05.762411Z"
    }
   },
   "outputs": [],
   "source": [
    "simil_list = list() \n",
    "corrcoef_list = list() "
   ]
  },
  {
   "cell_type": "code",
   "execution_count": null,
   "metadata": {
    "ExecuteTime": {
     "end_time": "2020-07-30T15:47:06.191999Z",
     "start_time": "2020-07-30T15:47:06.109030Z"
    }
   },
   "outputs": [],
   "source": [
    "# for i, y_ in tqdm_notebook(enumerate(y_test)):\n",
    "#     p = model.predict([x_test[i]])\n",
    "#     simil_list.append(cosine_similarity([p[0], y_])[0][1])\n",
    "\n",
    "for i, y_ in tqdm_notebook(enumerate(y_test)):\n",
    "    simil_list.append(cosine_similarity([p[0], y_])[0][1])\n",
    "    corrcoef_list.append(np.corrcoef(p[0], y_)[0][1])"
   ]
  },
  {
   "cell_type": "code",
   "execution_count": null,
   "metadata": {
    "ExecuteTime": {
     "end_time": "2020-07-30T15:47:07.899190Z",
     "start_time": "2020-07-30T15:47:07.894154Z"
    }
   },
   "outputs": [],
   "source": [
    "sum(simil_list) / len(simil_list), sum(corrcoef_list) / len(corrcoef_list)"
   ]
  },
  {
   "cell_type": "code",
   "execution_count": null,
   "metadata": {
    "ExecuteTime": {
     "end_time": "2020-07-27T15:54:14.458569Z",
     "start_time": "2020-07-27T15:54:14.443572Z"
    }
   },
   "outputs": [],
   "source": [
    "# with open(\"kay_data/slir_predicted_feature_vectors_test.pickle\", \"wb\") as fp:\n",
    "# # with open(\"kay_data/kay_brain_responses_test_roi_list.pickle\", \"wb\") as fp:\n",
    "#     pickle.dump(ptestr, fp)"
   ]
  },
  {
   "cell_type": "markdown",
   "metadata": {},
   "source": [
    "### model explanation"
   ]
  },
  {
   "cell_type": "code",
   "execution_count": null,
   "metadata": {
    "ExecuteTime": {
     "end_time": "2020-07-28T17:14:03.416937Z",
     "start_time": "2020-07-28T17:14:03.410358Z"
    }
   },
   "outputs": [],
   "source": [
    "import lime\n",
    "import lime.lime_tabular\n",
    "import lime.explanation"
   ]
  },
  {
   "cell_type": "code",
   "execution_count": null,
   "metadata": {
    "ExecuteTime": {
     "end_time": "2020-07-28T17:25:05.658596Z",
     "start_time": "2020-07-28T17:24:46.133570Z"
    }
   },
   "outputs": [],
   "source": [
    "explainer = lime.lime_tabular.LimeTabularExplainer(x, mode='regression', )"
   ]
  },
  {
   "cell_type": "code",
   "execution_count": null,
   "metadata": {
    "ExecuteTime": {
     "end_time": "2020-07-28T17:45:56.956716Z",
     "start_time": "2020-07-28T17:45:56.953709Z"
    }
   },
   "outputs": [],
   "source": [
    "i = 25\n",
    "exp = explainer.explain_instance(x_test[i], model.predict, )"
   ]
  },
  {
   "cell_type": "code",
   "execution_count": null,
   "metadata": {
    "ExecuteTime": {
     "end_time": "2020-07-28T17:43:51.585528Z",
     "start_time": "2020-07-28T17:30:46.819Z"
    }
   },
   "outputs": [],
   "source": [
    "exp.show_in_notebook(show_table=True)"
   ]
  },
  {
   "cell_type": "code",
   "execution_count": null,
   "metadata": {},
   "outputs": [],
   "source": []
  },
  {
   "cell_type": "code",
   "execution_count": null,
   "metadata": {},
   "outputs": [],
   "source": []
  },
  {
   "cell_type": "code",
   "execution_count": null,
   "metadata": {
    "ExecuteTime": {
     "end_time": "2020-07-28T17:44:43.094147Z",
     "start_time": "2020-07-28T17:44:43.089158Z"
    }
   },
   "outputs": [],
   "source": [
    "model.coef_.shape"
   ]
  },
  {
   "cell_type": "code",
   "execution_count": null,
   "metadata": {
    "ExecuteTime": {
     "end_time": "2020-07-28T17:48:22.943222Z",
     "start_time": "2020-07-28T17:48:21.249318Z"
    }
   },
   "outputs": [],
   "source": [
    "coefficients = pd.concat([pd.DataFrame(x),pd.DataFrame(np.transpose(model.coef_))], axis = 1)"
   ]
  },
  {
   "cell_type": "code",
   "execution_count": null,
   "metadata": {
    "ExecuteTime": {
     "end_time": "2020-07-28T17:55:47.671743Z",
     "start_time": "2020-07-28T17:55:47.642780Z"
    }
   },
   "outputs": [],
   "source": [
    "coefficients"
   ]
  },
  {
   "cell_type": "code",
   "execution_count": null,
   "metadata": {
    "ExecuteTime": {
     "end_time": "2020-07-28T20:23:39.487864Z",
     "start_time": "2020-07-28T20:23:39.481862Z"
    }
   },
   "outputs": [],
   "source": [
    "coefficients.columns[8420:8435]"
   ]
  },
  {
   "cell_type": "code",
   "execution_count": null,
   "metadata": {
    "ExecuteTime": {
     "end_time": "2020-07-28T20:24:05.862846Z",
     "start_time": "2020-07-28T20:24:05.833816Z"
    }
   },
   "outputs": [],
   "source": [
    "# rows: rois, columns: image feature vectors\n",
    "coefficients.iloc[:, 8428:-1]"
   ]
  },
  {
   "cell_type": "code",
   "execution_count": null,
   "metadata": {
    "ExecuteTime": {
     "end_time": "2020-07-28T20:19:30.844312Z",
     "start_time": "2020-07-28T20:19:00.410315Z"
    }
   },
   "outputs": [],
   "source": [
    "# Finding highest values in each row\n",
    "model_important_rois = coefficients.apply(lambda s, n: pd.Series(s.nlargest(n).index), axis=1, n=len(coefficients.columns))"
   ]
  },
  {
   "cell_type": "code",
   "execution_count": null,
   "metadata": {
    "ExecuteTime": {
     "end_time": "2020-07-28T20:21:02.849591Z",
     "start_time": "2020-07-28T20:21:02.824592Z"
    }
   },
   "outputs": [],
   "source": [
    "model_important_rois"
   ]
  },
  {
   "cell_type": "code",
   "execution_count": null,
   "metadata": {
    "ExecuteTime": {
     "end_time": "2020-07-28T20:29:53.830567Z",
     "start_time": "2020-07-28T20:29:53.795533Z"
    }
   },
   "outputs": [],
   "source": [
    "# rows: rois, columns: image feature vectors\n",
    "roi_image_coef = model_important_rois.iloc[:, 8428:-1]\n",
    "roi_image_coef"
   ]
  },
  {
   "cell_type": "code",
   "execution_count": null,
   "metadata": {
    "ExecuteTime": {
     "end_time": "2020-07-28T20:29:55.025378Z",
     "start_time": "2020-07-28T20:29:54.999389Z"
    }
   },
   "outputs": [],
   "source": [
    "# rows: rois, columns: rois\n",
    "\n",
    "roi_roi_coef = model_important_rois.iloc[:, 0:8428]\n",
    "roi_roi_coef"
   ]
  },
  {
   "cell_type": "code",
   "execution_count": null,
   "metadata": {
    "ExecuteTime": {
     "end_time": "2020-07-28T20:35:30.641434Z",
     "start_time": "2020-07-28T20:35:17.767387Z"
    }
   },
   "outputs": [],
   "source": [
    "roi_image_coef.stack().hist(bins=6000, figsize=(20, 15))"
   ]
  },
  {
   "cell_type": "code",
   "execution_count": null,
   "metadata": {
    "ExecuteTime": {
     "end_time": "2020-07-28T20:35:59.778595Z",
     "start_time": "2020-07-28T20:35:33.800323Z"
    }
   },
   "outputs": [],
   "source": [
    "roi_roi_coef.stack().hist(bins=8000, figsize=(20, 15))"
   ]
  },
  {
   "cell_type": "markdown",
   "metadata": {},
   "source": [
    "### train model on first 4000 `responses`"
   ]
  },
  {
   "cell_type": "code",
   "execution_count": null,
   "metadata": {
    "ExecuteTime": {
     "end_time": "2020-07-28T20:40:51.296902Z",
     "start_time": "2020-07-28T20:40:51.288903Z"
    }
   },
   "outputs": [],
   "source": [
    "x[:, :4000].shape"
   ]
  },
  {
   "cell_type": "code",
   "execution_count": null,
   "metadata": {
    "ExecuteTime": {
     "end_time": "2020-07-28T20:45:48.832190Z",
     "start_time": "2020-07-28T20:45:48.824190Z"
    }
   },
   "outputs": [],
   "source": [
    "x4k = x[:, 4000:]\n",
    "y4k = y\n",
    "x4k.shape, y4k.shape"
   ]
  },
  {
   "cell_type": "code",
   "execution_count": null,
   "metadata": {
    "ExecuteTime": {
     "end_time": "2020-07-28T20:46:25.427620Z",
     "start_time": "2020-07-28T20:45:50.582195Z"
    }
   },
   "outputs": [],
   "source": [
    "model4k = linear_model.LinearRegression(fit_intercept=False, n_jobs=-1)\n",
    "model4k.fit(x4k, y4k)"
   ]
  },
  {
   "cell_type": "code",
   "execution_count": null,
   "metadata": {
    "ExecuteTime": {
     "end_time": "2020-07-28T20:46:25.448616Z",
     "start_time": "2020-07-28T20:46:25.434623Z"
    }
   },
   "outputs": [],
   "source": [
    "x4k_test = x_test[:, 4000:]\n",
    "y4k_test = y_test\n",
    "x4k_test.shape, y4k_test.shape"
   ]
  },
  {
   "cell_type": "code",
   "execution_count": null,
   "metadata": {
    "ExecuteTime": {
     "end_time": "2020-07-28T20:46:26.155145Z",
     "start_time": "2020-07-28T20:46:25.455621Z"
    }
   },
   "outputs": [],
   "source": [
    "with open(\"kay_data/LinearRegression_last_4000_voxels.pickle\", \"wb\") as fp:\n",
    "    pickle.dump(model4k, fp)"
   ]
  },
  {
   "cell_type": "code",
   "execution_count": null,
   "metadata": {
    "ExecuteTime": {
     "end_time": "2020-07-28T20:46:30.460341Z",
     "start_time": "2020-07-28T20:46:29.710336Z"
    }
   },
   "outputs": [],
   "source": [
    "p4k = model4k.predict(x4k)"
   ]
  },
  {
   "cell_type": "code",
   "execution_count": null,
   "metadata": {
    "ExecuteTime": {
     "end_time": "2020-07-28T20:46:31.478346Z",
     "start_time": "2020-07-28T20:46:30.802342Z"
    }
   },
   "outputs": [],
   "source": [
    "sim = list()\n",
    "for i, y_ in tqdm_notebook(enumerate(y4k)):\n",
    "    sim.append(cosine_similarity([p4k[i], y_]))\n",
    "sum(sim) / len(sim)"
   ]
  },
  {
   "cell_type": "code",
   "execution_count": null,
   "metadata": {
    "ExecuteTime": {
     "end_time": "2020-07-28T20:46:34.703295Z",
     "start_time": "2020-07-28T20:46:34.543294Z"
    }
   },
   "outputs": [],
   "source": [
    "p4k = model4k.predict(x4k_test)\n",
    "\n",
    "sim = list()\n",
    "for i, y_ in tqdm_notebook(enumerate(y4k_test)):\n",
    "    sim.append(cosine_similarity([p4k[i], y_]))\n",
    "sum(sim) / len(sim)"
   ]
  },
  {
   "cell_type": "code",
   "execution_count": null,
   "metadata": {
    "ExecuteTime": {
     "end_time": "2020-07-28T20:52:39.762577Z",
     "start_time": "2020-07-28T20:52:39.751577Z"
    }
   },
   "outputs": [],
   "source": [
    "codf = pd.DataFrame({\"Feature\":range(0, len(x[0])),\"Coefficients\":model.coef_[0]})\n",
    "codf"
   ]
  },
  {
   "cell_type": "code",
   "execution_count": null,
   "metadata": {
    "ExecuteTime": {
     "end_time": "2020-07-29T10:29:35.653358Z",
     "start_time": "2020-07-29T10:29:31.233916Z"
    }
   },
   "outputs": [],
   "source": [
    "train_most_important_rois = list()\n",
    "test_most_important_rois = list()\n",
    "\n",
    "for i, xx in tqdm_notebook(enumerate(x)):\n",
    "    codf = pd.DataFrame({\"Feature\":range(0, len(xx)),\"Coefficients\":model.coef_[i]})\n",
    "    train_most_important_rois += codf.sort_values(by=['Coefficients'], ascending=False)['Feature'].tolist()[:100]\n",
    "\n",
    "for i, xx in tqdm_notebook(enumerate(x_test)):\n",
    "    codf = pd.DataFrame({\"Feature\":range(0, len(xx)),\"Coefficients\":model.coef_[i]})\n",
    "    test_most_important_rois += codf.sort_values(by=['Coefficients'], ascending=False)['Feature'].tolist()[:100]"
   ]
  },
  {
   "cell_type": "code",
   "execution_count": null,
   "metadata": {
    "ExecuteTime": {
     "end_time": "2020-07-29T10:30:08.525728Z",
     "start_time": "2020-07-29T10:30:08.514738Z"
    }
   },
   "outputs": [],
   "source": [
    "len(train_most_important_rois), len(set(train_most_important_rois)), \\\n",
    "len(test_most_important_rois), len(set(test_most_important_rois))"
   ]
  },
  {
   "cell_type": "code",
   "execution_count": null,
   "metadata": {
    "ExecuteTime": {
     "end_time": "2020-07-29T10:31:46.705457Z",
     "start_time": "2020-07-29T10:31:46.690456Z"
    }
   },
   "outputs": [],
   "source": [
    "train_most_important_rois_unique = np.array(sorted(set(train_most_important_rois)))\n",
    "test_most_important_rois_unique = np.array(sorted(set(test_most_important_rois)))\n",
    "# most_important_rois_unique.min(), most_important_rois_unique.max()"
   ]
  },
  {
   "cell_type": "code",
   "execution_count": null,
   "metadata": {
    "ExecuteTime": {
     "end_time": "2020-07-29T10:31:49.431483Z",
     "start_time": "2020-07-29T10:31:49.422477Z"
    }
   },
   "outputs": [],
   "source": [
    "np.diff(train_most_important_rois_unique), np.diff(test_most_important_rois_unique)"
   ]
  },
  {
   "cell_type": "code",
   "execution_count": null,
   "metadata": {
    "ExecuteTime": {
     "end_time": "2020-07-29T10:33:50.584188Z",
     "start_time": "2020-07-29T10:33:50.566972Z"
    }
   },
   "outputs": [],
   "source": [
    "train_most_important_rois_unique, len(train_most_important_rois_unique), \\\n",
    "test_most_important_rois_unique, len(test_most_important_rois_unique)"
   ]
  },
  {
   "cell_type": "code",
   "execution_count": null,
   "metadata": {
    "ExecuteTime": {
     "end_time": "2020-07-29T10:33:20.137456Z",
     "start_time": "2020-07-29T10:33:20.119420Z"
    },
    "scrolled": false
   },
   "outputs": [],
   "source": [
    "from collections import Counter\n",
    "\n",
    "train_voxel_counter = Counter(train_most_important_rois).most_common(100)\n",
    "test_voxel_counter = Counter(test_most_important_rois).most_common(100)"
   ]
  },
  {
   "cell_type": "code",
   "execution_count": null,
   "metadata": {
    "ExecuteTime": {
     "end_time": "2020-07-29T10:33:21.642628Z",
     "start_time": "2020-07-29T10:33:21.620624Z"
    },
    "scrolled": true
   },
   "outputs": [],
   "source": [
    "train_voxel_counter, test_voxel_counter"
   ]
  },
  {
   "cell_type": "code",
   "execution_count": null,
   "metadata": {
    "ExecuteTime": {
     "end_time": "2020-07-29T10:37:12.619846Z",
     "start_time": "2020-07-29T10:37:12.609880Z"
    },
    "scrolled": true
   },
   "outputs": [],
   "source": [
    "train_vox = [item[0] for item in train_voxel_counter]\n",
    "test_vox = [item[0] for item in test_voxel_counter]\n",
    "\n",
    "inter_vox = [value for value in train_vox if value in test_vox]\n",
    "inter_vox, len(inter_vox)"
   ]
  },
  {
   "cell_type": "code",
   "execution_count": null,
   "metadata": {
    "ExecuteTime": {
     "end_time": "2020-07-29T10:38:32.208722Z",
     "start_time": "2020-07-29T10:38:31.738557Z"
    }
   },
   "outputs": [],
   "source": [
    "fname = \"kay_images.npz\"\n",
    "with np.load(fname) as dobj:\n",
    "    dat = dict(**dobj)"
   ]
  },
  {
   "cell_type": "code",
   "execution_count": null,
   "metadata": {
    "ExecuteTime": {
     "end_time": "2020-07-29T17:25:30.265615Z",
     "start_time": "2020-07-29T17:25:30.259371Z"
    }
   },
   "outputs": [],
   "source": [
    "dat.keys()"
   ]
  },
  {
   "cell_type": "code",
   "execution_count": null,
   "metadata": {
    "ExecuteTime": {
     "end_time": "2020-07-29T10:43:34.538144Z",
     "start_time": "2020-07-29T10:43:34.520138Z"
    }
   },
   "outputs": [],
   "source": [
    "roi_voxels = dict()\n",
    "\n",
    "for i, roi in enumerate(dat['roi_names']):\n",
    "    idx = np.where(dat[\"roi\"] == i)[0]\n",
    "#     dat_area = dat[\"responses\"][:, idx]\n",
    "    inter = list(set(idx) & set(inter_vox))\n",
    "    roi_voxels[roi] = (inter, len(inter))"
   ]
  },
  {
   "cell_type": "code",
   "execution_count": null,
   "metadata": {
    "ExecuteTime": {
     "end_time": "2020-07-29T10:43:35.087650Z",
     "start_time": "2020-07-29T10:43:35.077658Z"
    },
    "scrolled": false
   },
   "outputs": [],
   "source": [
    "roi_voxels"
   ]
  },
  {
   "cell_type": "markdown",
   "metadata": {},
   "source": [
    "### train model with coef important features"
   ]
  },
  {
   "cell_type": "code",
   "execution_count": null,
   "metadata": {
    "ExecuteTime": {
     "end_time": "2020-07-29T10:48:38.680965Z",
     "start_time": "2020-07-29T10:48:38.038295Z"
    }
   },
   "outputs": [],
   "source": [
    "xf = x[:, inter_vox]\n",
    "xf.shape"
   ]
  },
  {
   "cell_type": "code",
   "execution_count": null,
   "metadata": {
    "ExecuteTime": {
     "end_time": "2020-07-29T10:52:34.359823Z",
     "start_time": "2020-07-29T10:52:34.348528Z"
    }
   },
   "outputs": [],
   "source": [
    "modelf = linear_model.LinearRegression(fit_intercept=False, n_jobs=-1)"
   ]
  },
  {
   "cell_type": "code",
   "execution_count": null,
   "metadata": {
    "ExecuteTime": {
     "end_time": "2020-07-29T10:53:07.148551Z",
     "start_time": "2020-07-29T10:53:06.797589Z"
    }
   },
   "outputs": [],
   "source": [
    "modelf.fit(xf, y)"
   ]
  },
  {
   "cell_type": "code",
   "execution_count": null,
   "metadata": {
    "ExecuteTime": {
     "end_time": "2020-07-29T10:53:10.381824Z",
     "start_time": "2020-07-29T10:53:10.358824Z"
    }
   },
   "outputs": [],
   "source": [
    "with open(\"kay_data/LinearRegression_coef_voxels.pickle\", \"wb\") as fp:\n",
    "    pickle.dump(modelf, fp)"
   ]
  },
  {
   "cell_type": "code",
   "execution_count": null,
   "metadata": {
    "ExecuteTime": {
     "end_time": "2020-07-29T10:53:28.164913Z",
     "start_time": "2020-07-29T10:53:28.088386Z"
    }
   },
   "outputs": [],
   "source": [
    "p = modelf.predict(xf)"
   ]
  },
  {
   "cell_type": "code",
   "execution_count": null,
   "metadata": {
    "ExecuteTime": {
     "end_time": "2020-07-29T10:53:33.777112Z",
     "start_time": "2020-07-29T10:53:33.769123Z"
    }
   },
   "outputs": [],
   "source": [
    "p.shape, y.shape"
   ]
  },
  {
   "cell_type": "code",
   "execution_count": null,
   "metadata": {
    "ExecuteTime": {
     "end_time": "2020-07-29T10:53:59.055217Z",
     "start_time": "2020-07-29T10:53:58.568217Z"
    }
   },
   "outputs": [],
   "source": [
    "sim = list()\n",
    "for i, y_ in tqdm_notebook(enumerate(y)):\n",
    "    sim.append(cosine_similarity([p[i], y_]))\n",
    "sum(sim) / len(sim)"
   ]
  },
  {
   "cell_type": "code",
   "execution_count": null,
   "metadata": {
    "ExecuteTime": {
     "end_time": "2020-07-29T10:55:05.035653Z",
     "start_time": "2020-07-29T10:55:05.028642Z"
    }
   },
   "outputs": [],
   "source": [
    "xf_test = x_test[:, inter_vox]\n",
    "xf_test.shape"
   ]
  },
  {
   "cell_type": "code",
   "execution_count": null,
   "metadata": {
    "ExecuteTime": {
     "end_time": "2020-07-29T10:55:21.852527Z",
     "start_time": "2020-07-29T10:55:21.827536Z"
    }
   },
   "outputs": [],
   "source": [
    "p = modelf.predict(xf_test)"
   ]
  },
  {
   "cell_type": "code",
   "execution_count": null,
   "metadata": {
    "ExecuteTime": {
     "end_time": "2020-07-29T10:55:32.722702Z",
     "start_time": "2020-07-29T10:55:32.640744Z"
    }
   },
   "outputs": [],
   "source": [
    "sim = list()\n",
    "for i, y_ in tqdm_notebook(enumerate(y_test)):\n",
    "    sim.append(cosine_similarity([p[i], y_]))\n",
    "sum(sim) / len(sim)"
   ]
  },
  {
   "cell_type": "code",
   "execution_count": null,
   "metadata": {},
   "outputs": [],
   "source": []
  }
 ],
 "metadata": {
  "kernelspec": {
   "display_name": "Python 3",
   "language": "python",
   "name": "python3"
  },
  "language_info": {
   "codemirror_mode": {
    "name": "ipython",
    "version": 3
   },
   "file_extension": ".py",
   "mimetype": "text/x-python",
   "name": "python",
   "nbconvert_exporter": "python",
   "pygments_lexer": "ipython3",
   "version": "3.7.7"
  }
 },
 "nbformat": 4,
 "nbformat_minor": 4
}
