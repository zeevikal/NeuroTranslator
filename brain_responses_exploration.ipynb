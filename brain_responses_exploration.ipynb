{
 "cells": [
  {
   "cell_type": "code",
   "execution_count": 1,
   "metadata": {
    "ExecuteTime": {
     "end_time": "2020-07-30T14:15:06.614391Z",
     "start_time": "2020-07-30T14:14:57.445740Z"
    }
   },
   "outputs": [],
   "source": [
    "import os\n",
    "import cv2\n",
    "import glob\n",
    "import h5py\n",
    "import pickle\n",
    "import numpy as np\n",
    "import pandas as pd\n",
    "from bdpy import BData\n",
    "from tqdm import tqdm_notebook\n",
    "import matplotlib.pyplot as plt"
   ]
  },
  {
   "cell_type": "markdown",
   "metadata": {},
   "source": [
    "### data exploration"
   ]
  },
  {
   "cell_type": "code",
   "execution_count": 2,
   "metadata": {
    "ExecuteTime": {
     "end_time": "2020-07-30T14:15:07.086350Z",
     "start_time": "2020-07-30T14:15:06.616489Z"
    }
   },
   "outputs": [],
   "source": [
    "fname = \"kay_images.npz\"\n",
    "with np.load(fname) as dobj:\n",
    "    dat = dict(**dobj)"
   ]
  },
  {
   "cell_type": "code",
   "execution_count": 3,
   "metadata": {
    "ExecuteTime": {
     "end_time": "2020-07-30T14:15:07.102368Z",
     "start_time": "2020-07-30T14:15:07.089348Z"
    }
   },
   "outputs": [
    {
     "data": {
      "text/plain": [
       "dict_keys(['stimuli', 'stimuli_test', 'responses', 'responses_test', 'roi', 'roi_names'])"
      ]
     },
     "execution_count": 3,
     "metadata": {},
     "output_type": "execute_result"
    }
   ],
   "source": [
    "dat.keys()"
   ]
  },
  {
   "cell_type": "code",
   "execution_count": 4,
   "metadata": {
    "ExecuteTime": {
     "end_time": "2020-07-30T14:15:07.121350Z",
     "start_time": "2020-07-30T14:15:07.106352Z"
    }
   },
   "outputs": [
    {
     "data": {
      "text/plain": [
       "(array([ 0.53109303, -0.1711666 , -2.18185285, ..., -0.08087291,\n",
       "        -0.07181383, -1.14688391]),\n",
       " 3,\n",
       " 'Other')"
      ]
     },
     "execution_count": 4,
     "metadata": {},
     "output_type": "execute_result"
    }
   ],
   "source": [
    "dat['responses'][0], dat['roi'][0], dat['roi_names'][0]"
   ]
  },
  {
   "cell_type": "code",
   "execution_count": 5,
   "metadata": {
    "ExecuteTime": {
     "end_time": "2020-07-30T14:15:07.151364Z",
     "start_time": "2020-07-30T14:15:07.124350Z"
    }
   },
   "outputs": [
    {
     "data": {
      "text/plain": [
       "(-4.18787191803876, 3.2694566405705783)"
      ]
     },
     "execution_count": 5,
     "metadata": {},
     "output_type": "execute_result"
    }
   ],
   "source": [
    "dat['responses'][0].min(), dat['responses'][0].max()"
   ]
  },
  {
   "cell_type": "code",
   "execution_count": 6,
   "metadata": {
    "ExecuteTime": {
     "end_time": "2020-07-30T14:15:07.167350Z",
     "start_time": "2020-07-30T14:15:07.155352Z"
    }
   },
   "outputs": [
    {
     "data": {
      "text/plain": [
       "({1, 2, 3, 4, 5, 6, 7},\n",
       " array(['Other', 'V1', 'V2', 'V3', 'V3A', 'V3B', 'V4', 'LatOcc'],\n",
       "       dtype='<U6'))"
      ]
     },
     "execution_count": 6,
     "metadata": {},
     "output_type": "execute_result"
    }
   ],
   "source": [
    "set(dat['roi']), dat['roi_names']"
   ]
  },
  {
   "cell_type": "code",
   "execution_count": 7,
   "metadata": {
    "ExecuteTime": {
     "end_time": "2020-07-30T14:15:07.199348Z",
     "start_time": "2020-07-30T14:15:07.170353Z"
    }
   },
   "outputs": [
    {
     "data": {
      "text/plain": [
       "((1750, 1294), array([ 187,  199,  213, ..., 8281, 8331, 8355], dtype=int64))"
      ]
     },
     "execution_count": 7,
     "metadata": {},
     "output_type": "execute_result"
    }
   ],
   "source": [
    "# responses per voxels` region\n",
    "i = 1\n",
    "idx = np.where(dat[\"roi\"] == i)[0]\n",
    "dat_area = dat[\"responses\"][:, idx]\n",
    "dat_area.shape, idx"
   ]
  },
  {
   "cell_type": "code",
   "execution_count": 8,
   "metadata": {
    "ExecuteTime": {
     "end_time": "2020-07-30T14:15:07.218348Z",
     "start_time": "2020-07-30T14:15:07.205350Z"
    }
   },
   "outputs": [
    {
     "data": {
      "text/plain": [
       "((8428,),\n",
       " (1750, 8428),\n",
       " array(['Other', 'V1', 'V2', 'V3', 'V3A', 'V3B', 'V4', 'LatOcc'],\n",
       "       dtype='<U6'),\n",
       " {1, 2, 3, 4, 5, 6, 7})"
      ]
     },
     "execution_count": 8,
     "metadata": {},
     "output_type": "execute_result"
    }
   ],
   "source": [
    "dat['roi'].shape, dat['responses'].shape, dat['roi_names'], set(dat['roi'])"
   ]
  },
  {
   "cell_type": "code",
   "execution_count": 9,
   "metadata": {
    "ExecuteTime": {
     "end_time": "2020-07-30T14:15:07.689869Z",
     "start_time": "2020-07-30T14:15:07.221351Z"
    }
   },
   "outputs": [
    {
     "data": {
      "text/plain": [
       "(array([  1.,   0.,   0.,   1.,   0.,   1.,   0.,   2.,   1.,   1.,   2.,\n",
       "          1.,   2.,   3.,   9.,   6.,  11.,  15.,  16.,  22.,  22.,  47.,\n",
       "         57.,  85.,  99., 119., 131., 182., 208., 225., 306., 307., 323.,\n",
       "        394., 401., 409., 469., 430., 403., 444., 413., 396., 371., 306.,\n",
       "        270., 271., 216., 215., 156., 124., 108., 100.,  95.,  42.,  63.,\n",
       "         27.,  27.,  21.,  14.,   7.,  10.,  10.,   3.,   4.,   0.,   2.,\n",
       "          0.,   0.,   2.]),\n",
       " array([-4.18787192, -4.07979469, -3.97171747, -3.86364024, -3.75556302,\n",
       "        -3.64748579, -3.53940857, -3.43133134, -3.32325411, -3.21517689,\n",
       "        -3.10709966, -2.99902244, -2.89094521, -2.78286799, -2.67479076,\n",
       "        -2.56671354, -2.45863631, -2.35055908, -2.24248186, -2.13440463,\n",
       "        -2.02632741, -1.91825018, -1.81017296, -1.70209573, -1.59401851,\n",
       "        -1.48594128, -1.37786406, -1.26978683, -1.1617096 , -1.05363238,\n",
       "        -0.94555515, -0.83747793, -0.7294007 , -0.62132348, -0.51324625,\n",
       "        -0.40516903, -0.2970918 , -0.18901458, -0.08093735,  0.02713988,\n",
       "         0.1352171 ,  0.24329433,  0.35137155,  0.45944878,  0.567526  ,\n",
       "         0.67560323,  0.78368045,  0.89175768,  0.99983491,  1.10791213,\n",
       "         1.21598936,  1.32406658,  1.43214381,  1.54022103,  1.64829826,\n",
       "         1.75637548,  1.86445271,  1.97252993,  2.08060716,  2.18868439,\n",
       "         2.29676161,  2.40483884,  2.51291606,  2.62099329,  2.72907051,\n",
       "         2.83714774,  2.94522496,  3.05330219,  3.16137942,  3.26945664]),\n",
       " <a list of 69 Patch objects>)"
      ]
     },
     "execution_count": 9,
     "metadata": {},
     "output_type": "execute_result"
    },
    {
     "data": {
      "image/png": "[encoded data removed]",
      "text/plain": [
       "<Figure size 432x288 with 1 Axes>"
      ]
     },
     "metadata": {
      "needs_background": "light"
     },
     "output_type": "display_data"
    }
   ],
   "source": [
    "plt.hist(dat['responses'][0], bins='auto')"
   ]
  },
  {
   "cell_type": "markdown",
   "metadata": {},
   "source": [
    "### create & manipulate responses data for training process"
   ]
  },
  {
   "cell_type": "code",
   "execution_count": 10,
   "metadata": {
    "ExecuteTime": {
     "end_time": "2020-07-30T14:15:15.322087Z",
     "start_time": "2020-07-30T14:15:14.971486Z"
    }
   },
   "outputs": [
    {
     "name": "stderr",
     "output_type": "stream",
     "text": [
      "C:\\Users\\zkalyuzhner\\.conda\\envs\\neurot\\lib\\site-packages\\ipykernel_launcher.py:4: TqdmDeprecationWarning: This function will be removed in tqdm==5.0.0\n",
      "Please use `tqdm.notebook.tqdm` instead of `tqdm.tqdm_notebook`\n",
      "  after removing the cwd from sys.path.\n"
     ]
    },
    {
     "data": {
      "application/vnd.jupyter.widget-view+json": {
       "model_id": "54a04275e6c440f989be77c04d311db5",
       "version_major": 2,
       "version_minor": 0
      },
      "text/plain": [
       "HBox(children=(FloatProgress(value=1.0, bar_style='info', max=1.0), HTML(value='')))"
      ]
     },
     "metadata": {},
     "output_type": "display_data"
    },
    {
     "name": "stdout",
     "output_type": "stream",
     "text": [
      "\n"
     ]
    }
   ],
   "source": [
    "responses_extraction = list()\n",
    "thresh = 0\n",
    "\n",
    "for i, r in tqdm_notebook(enumerate(dat['responses'])):\n",
    "#     responses_extraction.append((np.array([0 if r_ < thresh else r_ for r_ in r]), dat['roi'][i]))\n",
    "    responses_extraction.append((r, dat['roi'][i]))\n",
    "#     responses_extraction.append((np.array([0 if -thresh < r_ < thresh else r_ for r_ in r]), dat['roi'][i]))\n",
    "#     responses_extraction.append((r**3, dat['roi'][i]))"
   ]
  },
  {
   "cell_type": "code",
   "execution_count": 11,
   "metadata": {
    "ExecuteTime": {
     "end_time": "2020-07-30T14:15:16.478594Z",
     "start_time": "2020-07-30T14:15:16.101354Z"
    }
   },
   "outputs": [],
   "source": [
    "with open(\"kay_data/kay_brain_responses_roi_list.pickle\", \"wb\") as fp:\n",
    "    pickle.dump(responses_extraction, fp)"
   ]
  },
  {
   "cell_type": "code",
   "execution_count": 12,
   "metadata": {
    "ExecuteTime": {
     "end_time": "2020-07-30T14:15:18.150841Z",
     "start_time": "2020-07-30T14:15:18.121841Z"
    }
   },
   "outputs": [
    {
     "name": "stderr",
     "output_type": "stream",
     "text": [
      "C:\\Users\\zkalyuzhner\\.conda\\envs\\neurot\\lib\\site-packages\\ipykernel_launcher.py:4: TqdmDeprecationWarning: This function will be removed in tqdm==5.0.0\n",
      "Please use `tqdm.notebook.tqdm` instead of `tqdm.tqdm_notebook`\n",
      "  after removing the cwd from sys.path.\n"
     ]
    },
    {
     "data": {
      "application/vnd.jupyter.widget-view+json": {
       "model_id": "12f3a121683d43929fa0d48440be1661",
       "version_major": 2,
       "version_minor": 0
      },
      "text/plain": [
       "HBox(children=(FloatProgress(value=1.0, bar_style='info', max=1.0), HTML(value='')))"
      ]
     },
     "metadata": {},
     "output_type": "display_data"
    },
    {
     "name": "stdout",
     "output_type": "stream",
     "text": [
      "\n"
     ]
    }
   ],
   "source": [
    "responses_extraction = list()\n",
    "thresh = 0\n",
    "\n",
    "for i, r in tqdm_notebook(enumerate(dat['responses_test'])):\n",
    "#     responses_extraction.append((np.array([0 if r_ < thresh else r_ for r_ in r]), dat['roi'][i]))\n",
    "    responses_extraction.append((r, dat['roi'][i]))\n",
    "#     responses_extraction.append((np.array([0 if -thresh < r_ < thresh else r_ for r_ in r]), dat['roi'][i]))\n",
    "#     responses_extraction.append((r**3, dat['roi'][i]))"
   ]
  },
  {
   "cell_type": "code",
   "execution_count": 13,
   "metadata": {
    "ExecuteTime": {
     "end_time": "2020-07-30T14:15:19.320077Z",
     "start_time": "2020-07-30T14:15:19.284079Z"
    }
   },
   "outputs": [],
   "source": [
    "with open(\"kay_data/kay_brain_responses_test_roi_list.pickle\", \"wb\") as fp:\n",
    "    pickle.dump(responses_extraction, fp)"
   ]
  },
  {
   "cell_type": "code",
   "execution_count": 14,
   "metadata": {
    "ExecuteTime": {
     "end_time": "2020-07-30T14:15:20.234952Z",
     "start_time": "2020-07-30T14:15:19.865954Z"
    }
   },
   "outputs": [
    {
     "name": "stderr",
     "output_type": "stream",
     "text": [
      "C:\\Users\\zkalyuzhner\\.conda\\envs\\neurot\\lib\\site-packages\\numpy\\core\\_asarray.py:83: VisibleDeprecationWarning: Creating an ndarray from ragged nested sequences (which is a list-or-tuple of lists-or-tuples-or ndarrays with different lengths or shapes) is deprecated. If you meant to do this, you must specify 'dtype=object' when creating the ndarray\n",
      "  return array(a, dtype, copy=False, order=order)\n"
     ]
    },
    {
     "data": {
      "text/plain": [
       "(array([[  1.,   0.,   1.,   1.,   0.,   0.,   0.,   1.,   1.,   0.,   1.,\n",
       "           2.,   1.,   3.,   3.,   3.,   3.,   3.,   9.,   8.,   4.,  16.,\n",
       "          15.,  22.,  17.,  24.,  27.,  47.,  47.,  57.,  64.,  80., 100.,\n",
       "          93., 123., 142., 167., 215., 241., 280., 321., 325., 362., 386.,\n",
       "         440., 473., 463., 471., 449., 387., 361., 348., 313., 257., 206.,\n",
       "         177., 168., 140., 110.,  87.,  62.,  54.,  43.,  43.,  36.,  23.,\n",
       "          18.,  12.,  14.,   8.,  13.,   4.,   2.,   5.,   5.,   3.,   1.,\n",
       "           4.,   4.,   2.,   1.,   4.,   0.,   0.,   0.,   0.,   0.,   0.,\n",
       "           0.,   0.,   0.,   0.,   0.,   0.,   0.,   0.,   0.,   0.,   0.,\n",
       "           0.,   0.,   0.,   0.,   0.,   0.,   0.,   0.,   0.,   0.,   0.,\n",
       "           0.,   0.,   0.,   0.,   0.,   0.,   1.],\n",
       "        [  0.,   0.,   0.,   0.,   0.,   0.,   0.,   0.,   0.,   0.,   0.,\n",
       "           0.,   0.,   0.,   0.,   0.,   0.,   0.,   0.,   0.,   0.,   0.,\n",
       "           0.,   0.,   0.,   0.,   0.,   0.,   0.,   0.,   0.,   0.,   0.,\n",
       "           0.,   0.,   0.,   0.,   0.,   0.,   0.,   0.,   0.,   0.,   0.,\n",
       "           0.,   0.,   0.,   0.,   0.,   0.,   0.,   0.,   0.,   0.,   0.,\n",
       "           0.,   0.,   0.,   0.,   0.,   0.,   0.,   0.,   0.,   0.,   0.,\n",
       "           0.,   0.,   0.,   0.,   0.,   0.,   0.,   0.,   0.,   0.,   0.,\n",
       "           0.,   0.,   0.,   0.,   0.,   0.,   0.,   0.,   0.,   0.,   0.,\n",
       "           0.,   0.,   0.,   0.,   0.,   0.,   0.,   0.,   0.,   0.,   0.,\n",
       "           0.,   0.,   0.,   0.,   1.,   0.,   0.,   0.,   0.,   0.,   0.,\n",
       "           0.,   0.,   0.,   0.,   0.,   0.,   0.]]),\n",
       " array([-2.43666681, -2.3843233 , -2.33197979, -2.27963628, -2.22729277,\n",
       "        -2.17494926, -2.12260575, -2.07026225, -2.01791874, -1.96557523,\n",
       "        -1.91323172, -1.86088821, -1.8085447 , -1.75620119, -1.70385768,\n",
       "        -1.65151417, -1.59917066, -1.54682715, -1.49448364, -1.44214013,\n",
       "        -1.38979662, -1.33745311, -1.2851096 , -1.23276609, -1.18042258,\n",
       "        -1.12807907, -1.07573556, -1.02339205, -0.97104854, -0.91870503,\n",
       "        -0.86636152, -0.81401801, -0.7616745 , -0.70933099, -0.65698748,\n",
       "        -0.60464397, -0.55230046, -0.49995695, -0.44761344, -0.39526993,\n",
       "        -0.34292642, -0.29058291, -0.2382394 , -0.18589589, -0.13355238,\n",
       "        -0.08120887, -0.02886537,  0.02347814,  0.07582165,  0.12816516,\n",
       "         0.18050867,  0.23285218,  0.28519569,  0.3375392 ,  0.38988271,\n",
       "         0.44222622,  0.49456973,  0.54691324,  0.59925675,  0.65160026,\n",
       "         0.70394377,  0.75628728,  0.80863079,  0.8609743 ,  0.91331781,\n",
       "         0.96566132,  1.01800483,  1.07034834,  1.12269185,  1.17503536,\n",
       "         1.22737887,  1.27972238,  1.33206589,  1.3844094 ,  1.43675291,\n",
       "         1.48909642,  1.54143993,  1.59378344,  1.64612695,  1.69847046,\n",
       "         1.75081397,  1.80315748,  1.85550099,  1.9078445 ,  1.960188  ,\n",
       "         2.01253151,  2.06487502,  2.11721853,  2.16956204,  2.22190555,\n",
       "         2.27424906,  2.32659257,  2.37893608,  2.43127959,  2.4836231 ,\n",
       "         2.53596661,  2.58831012,  2.64065363,  2.69299714,  2.74534065,\n",
       "         2.79768416,  2.85002767,  2.90237118,  2.95471469,  3.0070582 ,\n",
       "         3.05940171,  3.11174522,  3.16408873,  3.21643224,  3.26877575,\n",
       "         3.32111926,  3.37346277,  3.42580628,  3.47814979,  3.5304933 ,\n",
       "         3.58283681,  3.63518032,  3.68752383]),\n",
       " <a list of 2 Lists of Patches objects>)"
      ]
     },
     "execution_count": 14,
     "metadata": {},
     "output_type": "execute_result"
    },
    {
     "data": {
      "image/png": "[encoded data removed]",
      "text/plain": [
       "<Figure size 432x288 with 1 Axes>"
      ]
     },
     "metadata": {
      "needs_background": "light"
     },
     "output_type": "display_data"
    }
   ],
   "source": [
    "plt.hist(responses_extraction[10], bins='auto')"
   ]
  },
  {
   "cell_type": "code",
   "execution_count": null,
   "metadata": {},
   "outputs": [],
   "source": []
  }
 ],
 "metadata": {
  "kernelspec": {
   "display_name": "Python 3",
   "language": "python",
   "name": "python3"
  },
  "language_info": {
   "codemirror_mode": {
    "name": "ipython",
    "version": 3
   },
   "file_extension": ".py",
   "mimetype": "text/x-python",
   "name": "python",
   "nbconvert_exporter": "python",
   "pygments_lexer": "ipython3",
   "version": "3.7.7"
  }
 },
 "nbformat": 4,
 "nbformat_minor": 4
}
