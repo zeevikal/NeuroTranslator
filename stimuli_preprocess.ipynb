{
 "cells": [
  {
   "cell_type": "code",
   "execution_count": 14,
   "metadata": {
    "ExecuteTime": {
     "end_time": "2020-07-26T09:48:52.930592Z",
     "start_time": "2020-07-26T09:48:52.924593Z"
    }
   },
   "outputs": [],
   "source": [
    "import os\n",
    "import cv2\n",
    "import glob\n",
    "import pickle\n",
    "import requests\n",
    "import numpy as np\n",
    "from io import BytesIO\n",
    "from matplotlib import cm\n",
    "from tqdm import tqdm_notebook\n",
    "import matplotlib.pyplot as plt\n",
    "from PIL import Image, ImageOps, ImageDraw, ImageEnhance\n",
    "\n",
    "from tensorflow.keras.preprocessing import image\n",
    "from tensorflow.keras.backend import resize_images\n",
    "# from tensorflow.keras.applications.vgg16 import VGG16\n",
    "# from tensorflow.keras.applications.resnet50 import ResNet50\n",
    "# from tensorflow.keras.applications.vgg16 import preprocess_input, decode_predictions\n",
    "# from tensorflow.keras.applications.resnet50 import preprocess_input, decode_predictions\n",
    "from tensorflow.keras.applications.nasnet import preprocess_input, decode_predictions, NASNetLarge"
   ]
  },
  {
   "cell_type": "code",
   "execution_count": null,
   "metadata": {
    "ExecuteTime": {
     "end_time": "2020-07-26T09:02:36.382340Z",
     "start_time": "2020-07-26T09:02:35.985972Z"
    }
   },
   "outputs": [],
   "source": [
    "fname = \"kay_images.npz\"\n",
    "with np.load(fname) as dobj:\n",
    "    dat = dict(**dobj)"
   ]
  },
  {
   "cell_type": "code",
   "execution_count": null,
   "metadata": {
    "ExecuteTime": {
     "end_time": "2020-07-26T08:16:25.713360Z",
     "start_time": "2020-07-26T08:16:25.695358Z"
    }
   },
   "outputs": [],
   "source": [
    "dat.keys()"
   ]
  },
  {
   "cell_type": "code",
   "execution_count": null,
   "metadata": {
    "ExecuteTime": {
     "end_time": "2020-07-26T08:16:26.193932Z",
     "start_time": "2020-07-26T08:16:25.720357Z"
    }
   },
   "outputs": [],
   "source": [
    "im = Image.fromarray(np.uint8(cm.gist_earth(dat[\"stimuli\"][0])*255)).convert(\"L\")\n",
    "plt.imshow(dat[\"stimuli\"][0], cmap=\"gray\")"
   ]
  },
  {
   "cell_type": "code",
   "execution_count": null,
   "metadata": {
    "ExecuteTime": {
     "end_time": "2020-07-26T08:16:30.440389Z",
     "start_time": "2020-07-26T08:16:26.198932Z"
    }
   },
   "outputs": [],
   "source": [
    "f, axs = plt.subplots(2, 4, figsize=(12, 6), sharex=True, sharey=True)\n",
    "for ax, im in zip(axs.flat, dat[\"stimuli\"]):\n",
    "    ax.imshow(im, cmap=\"gray\")\n",
    "f.tight_layout()"
   ]
  },
  {
   "cell_type": "code",
   "execution_count": null,
   "metadata": {
    "ExecuteTime": {
     "end_time": "2020-07-26T08:16:30.548384Z",
     "start_time": "2020-07-26T08:16:30.442366Z"
    }
   },
   "outputs": [],
   "source": [
    "dat[\"stimuli\"][0].shape"
   ]
  },
  {
   "cell_type": "markdown",
   "metadata": {},
   "source": [
    "### stimuli images pre-process (crop circle, resize and colorize)"
   ]
  },
  {
   "cell_type": "code",
   "execution_count": null,
   "metadata": {
    "ExecuteTime": {
     "end_time": "2020-07-25T17:43:15.917524Z",
     "start_time": "2020-07-25T17:43:15.912524Z"
    }
   },
   "outputs": [],
   "source": [
    "def crop_resize_image_circle(im):\n",
    "    size = (256, 256) # (128, 128)\n",
    "    mask = Image.new('L', size, 0)\n",
    "    draw = ImageDraw.Draw(mask) \n",
    "    draw.ellipse((0, 0) + size, fill=255)\n",
    "    im = Image.fromarray(np.uint8(cm.gist_earth(im)*255)).convert(\"L\")\n",
    "    im.thumbnail(size, Image.ANTIALIAS)\n",
    "\n",
    "    output = ImageOps.fit(im, mask.size, centering=(0.5, 0.5))\n",
    "    output.putalpha(mask)\n",
    "#     enhancer = ImageEnhance.Brightness(output)\n",
    "#     output = enhancer.enhance(1.8)\n",
    "#     output.save('output.png')\n",
    "    return output"
   ]
  },
  {
   "cell_type": "code",
   "execution_count": null,
   "metadata": {
    "ExecuteTime": {
     "end_time": "2020-07-25T20:34:21.428873Z",
     "start_time": "2020-07-25T20:34:12.682595Z"
    },
    "scrolled": true
   },
   "outputs": [],
   "source": [
    "# for i, im in tqdm_notebook(enumerate(dat[\"stimuli\"])):\n",
    "for i, im in tqdm_notebook(enumerate(dat[\"stimuli_test\"])):\n",
    "#     if i > 20: break\n",
    "#     cim = crop_resize_image_circle(im)\n",
    "#     print(cim.size)\n",
    "#     plt.imshow(cim)\n",
    "#     plt.show()\n",
    "    im = image.img_to_array(im)[:,:,0]\n",
    "    im = cv2.resize(im, (512, 512)) \n",
    "    plt.imsave('./kay_data/stimuli_test_resized/stimuli_test_resized_{0}.png'.format(i), im, cmap='gray')\n",
    "#     cim.save('./kay_data/stimuli/stimuli_{0}.png'.format(i))"
   ]
  },
  {
   "cell_type": "markdown",
   "metadata": {},
   "source": [
    "### image colorization"
   ]
  },
  {
   "cell_type": "code",
   "execution_count": null,
   "metadata": {
    "ExecuteTime": {
     "end_time": "2020-07-25T20:46:49.989119Z",
     "start_time": "2020-07-25T20:46:49.986116Z"
    }
   },
   "outputs": [],
   "source": [
    "def deepai_colorization(img_path):\n",
    "    r = requests.post(\n",
    "        \"https://api.deepai.org/api/colorizer\",\n",
    "        files={\n",
    "            'image': open(img_path, 'rb'),\n",
    "        },\n",
    "        headers={'api-key': ''}\n",
    "    )\n",
    "    return r"
   ]
  },
  {
   "cell_type": "code",
   "execution_count": null,
   "metadata": {
    "ExecuteTime": {
     "end_time": "2020-07-25T20:53:54.677213Z",
     "start_time": "2020-07-25T20:47:13.818393Z"
    },
    "scrolled": true
   },
   "outputs": [],
   "source": [
    "for i, im in tqdm_notebook(enumerate(glob.glob('kay_data/stimuli_test/*.png'))):\n",
    "    r =  deepai_colorization(im)\n",
    "    response = requests.get(r.json()['output_url'])\n",
    "    img = Image.open(BytesIO(response.content))\n",
    "    img.save('./kay_data/stimuli_test_colorized/stimuli_test_{0}_color.png'.format(i))"
   ]
  },
  {
   "cell_type": "markdown",
   "metadata": {},
   "source": [
    "### super resolution images"
   ]
  },
  {
   "cell_type": "code",
   "execution_count": 16,
   "metadata": {
    "ExecuteTime": {
     "end_time": "2020-07-26T09:50:48.164037Z",
     "start_time": "2020-07-26T09:50:48.157033Z"
    }
   },
   "outputs": [],
   "source": [
    "def deepai_superes(img_path):\n",
    "    r = requests.post(\n",
    "        \"https://api.deepai.org/api/torch-srgan\",\n",
    "        files={\n",
    "            'image': open(img_path, 'rb'),\n",
    "        },\n",
    "        headers={'api-key': ''}\n",
    "    )\n",
    "    return r"
   ]
  },
  {
   "cell_type": "code",
   "execution_count": 17,
   "metadata": {
    "ExecuteTime": {
     "end_time": "2020-07-26T11:57:36.690783Z",
     "start_time": "2020-07-26T09:51:22.227323Z"
    }
   },
   "outputs": [
    {
     "name": "stderr",
     "output_type": "stream",
     "text": [
      "C:\\Users\\zkalyuzhner\\.conda\\envs\\neurot\\lib\\site-packages\\ipykernel_launcher.py:1: TqdmDeprecationWarning: This function will be removed in tqdm==5.0.0\n",
      "Please use `tqdm.notebook.tqdm` instead of `tqdm.tqdm_notebook`\n",
      "  \"\"\"Entry point for launching an IPython kernel.\n"
     ]
    },
    {
     "data": {
      "application/vnd.jupyter.widget-view+json": {
       "model_id": "b66771f638554ae18191883f9c792c3f",
       "version_major": 2,
       "version_minor": 0
      },
      "text/plain": [
       "HBox(children=(FloatProgress(value=1.0, bar_style='info', max=1.0), HTML(value='')))"
      ]
     },
     "metadata": {},
     "output_type": "display_data"
    },
    {
     "name": "stdout",
     "output_type": "stream",
     "text": [
      "\n"
     ]
    }
   ],
   "source": [
    "for i, im in tqdm_notebook(enumerate(glob.glob('kay_data/stimuli_colorized/*.png'))):\n",
    "    r = deepai_superes(im)\n",
    "    response = requests.get(r.json()['output_url'])\n",
    "    img = Image.open(BytesIO(response.content))\n",
    "    img.save('./kay_data/stimuli_colorized_superes/stimuli_{0}_color_superes.png'.format(i))"
   ]
  },
  {
   "cell_type": "markdown",
   "metadata": {},
   "source": [
    "### png to jpeg"
   ]
  },
  {
   "cell_type": "code",
   "execution_count": 18,
   "metadata": {
    "ExecuteTime": {
     "end_time": "2020-07-26T12:02:39.486508Z",
     "start_time": "2020-07-26T12:01:36.429837Z"
    }
   },
   "outputs": [
    {
     "name": "stderr",
     "output_type": "stream",
     "text": [
      "C:\\Users\\zkalyuzhner\\.conda\\envs\\neurot\\lib\\site-packages\\ipykernel_launcher.py:1: TqdmDeprecationWarning: This function will be removed in tqdm==5.0.0\n",
      "Please use `tqdm.notebook.tqdm` instead of `tqdm.tqdm_notebook`\n",
      "  \"\"\"Entry point for launching an IPython kernel.\n"
     ]
    },
    {
     "data": {
      "application/vnd.jupyter.widget-view+json": {
       "model_id": "aaa515952c684654b3d4e1b1d1d10e5f",
       "version_major": 2,
       "version_minor": 0
      },
      "text/plain": [
       "HBox(children=(FloatProgress(value=1.0, bar_style='info', max=1.0), HTML(value='')))"
      ]
     },
     "metadata": {},
     "output_type": "display_data"
    },
    {
     "name": "stdout",
     "output_type": "stream",
     "text": [
      "\n"
     ]
    }
   ],
   "source": [
    "for i, im in tqdm_notebook(enumerate(glob.glob('kay_data/stimuli_colorized_superes/*.png'))):\n",
    "    im = Image.open(im)\n",
    "    rgb_im = im.convert('RGB')\n",
    "    rgb_im.save('./kay_data/stimuli_colorized_superes_jpeg/stimuli_{0}_color_superes.jpg'.format(i))"
   ]
  },
  {
   "cell_type": "markdown",
   "metadata": {},
   "source": [
    "### extract stimuli features"
   ]
  },
  {
   "cell_type": "code",
   "execution_count": null,
   "metadata": {},
   "outputs": [],
   "source": [
    "# https://tech.zegami.com/comparing-pre-trained-deep-learning-models-for-feature-extraction-c617da54641"
   ]
  },
  {
   "cell_type": "code",
   "execution_count": 19,
   "metadata": {
    "ExecuteTime": {
     "end_time": "2020-07-26T12:03:52.963865Z",
     "start_time": "2020-07-26T12:03:52.958879Z"
    }
   },
   "outputs": [],
   "source": [
    "stimuli_features = dict()"
   ]
  },
  {
   "cell_type": "code",
   "execution_count": 3,
   "metadata": {
    "ExecuteTime": {
     "end_time": "2020-07-26T09:40:55.960586Z",
     "start_time": "2020-07-26T09:40:13.270766Z"
    }
   },
   "outputs": [
    {
     "name": "stdout",
     "output_type": "stream",
     "text": [
      "WARNING:tensorflow:From C:\\Users\\zkalyuzhner\\.conda\\envs\\neurot\\lib\\site-packages\\tensorflow\\python\\ops\\init_ops.py:1251: calling VarianceScaling.__init__ (from tensorflow.python.ops.init_ops) with dtype is deprecated and will be removed in a future version.\n",
      "Instructions for updating:\n",
      "Call initializer instance with the dtype argument instead of passing it to the constructor\n"
     ]
    }
   ],
   "source": [
    "# model = ResNet50(weights='imagenet')\n",
    "# model = VGG16(weights='imagenet') #, include_top=False)\n",
    "model = NASNetLarge(weights='imagenet') #, include_top=False)\n",
    "# model = NASNetMobile(weights='imagenet') #, include_top=False)\n",
    "# model = MobileNetV2(weights='imagenet')"
   ]
  },
  {
   "cell_type": "code",
   "execution_count": 4,
   "metadata": {
    "ExecuteTime": {
     "end_time": "2020-07-26T09:41:36.416365Z",
     "start_time": "2020-07-26T09:40:55.962549Z"
    }
   },
   "outputs": [],
   "source": [
    "model_ex = NASNetLarge(weights='imagenet', include_top=False, pooling='avg')"
   ]
  },
  {
   "cell_type": "code",
   "execution_count": 5,
   "metadata": {
    "ExecuteTime": {
     "end_time": "2020-07-26T09:41:36.427371Z",
     "start_time": "2020-07-26T09:41:36.418367Z"
    }
   },
   "outputs": [],
   "source": [
    "def crop_center(img,cropx,cropy):\n",
    "    y,x, _ = img.shape\n",
    "    startx = x//2-(cropx//2)\n",
    "    starty = y//2-(cropy//2)    \n",
    "    return img[starty:starty+cropy,startx:startx+cropx]"
   ]
  },
  {
   "cell_type": "code",
   "execution_count": 20,
   "metadata": {
    "ExecuteTime": {
     "end_time": "2020-07-26T13:18:09.413780Z",
     "start_time": "2020-07-26T12:04:02.022861Z"
    },
    "scrolled": true
   },
   "outputs": [
    {
     "name": "stderr",
     "output_type": "stream",
     "text": [
      "C:\\Users\\zkalyuzhner\\.conda\\envs\\neurot\\lib\\site-packages\\ipykernel_launcher.py:3: TqdmDeprecationWarning: This function will be removed in tqdm==5.0.0\n",
      "Please use `tqdm.notebook.tqdm` instead of `tqdm.tqdm_notebook`\n",
      "  This is separate from the ipykernel package so we can avoid doing imports until\n"
     ]
    },
    {
     "data": {
      "application/vnd.jupyter.widget-view+json": {
       "model_id": "9e69e7d6e96a4222a6a867f58e11c02b",
       "version_major": 2,
       "version_minor": 0
      },
      "text/plain": [
       "HBox(children=(FloatProgress(value=1.0, bar_style='info', max=1.0), HTML(value='')))"
      ]
     },
     "metadata": {},
     "output_type": "display_data"
    },
    {
     "name": "stdout",
     "output_type": "stream",
     "text": [
      "\n"
     ]
    }
   ],
   "source": [
    "# img classification\n",
    "\n",
    "for i, img_path in tqdm_notebook(enumerate(glob.glob('kay_data/stimuli_colorized_superes_jpeg/*.jpg'))):\n",
    "    try:\n",
    "#         if i > 20: break\n",
    "        img_name = img_path.split(sep=os.sep)[1].split(sep='.')[0]\n",
    "        stimuli_features[img_name] = list()\n",
    "        img = image.load_img(img_path, target_size=(512, 512))\n",
    "        x = image.img_to_array(img)\n",
    "        x = np.array(x)\n",
    "        x = crop_center(x, 331, 331)\n",
    "        x = np.expand_dims(x, axis=0)\n",
    "        x = preprocess_input(x)\n",
    "#         x = x[:,:,:,:]\n",
    "        preds = model.predict(x)\n",
    "    #     print('Predicted:', decode_predictions(preds, top=3)[0])\n",
    "        p = decode_predictions(preds, top=1)[0]\n",
    "    #     if p[2] >= 0.8:\n",
    "#         print(p)\n",
    "        features = model_ex.predict(x)[0]\n",
    "        stimuli_features[img_name] += [p[0], features]\n",
    "#         plt.imshow(img)\n",
    "#         plt.show()\n",
    "    except:\n",
    "        print('bad input: ', img_path)"
   ]
  },
  {
   "cell_type": "code",
   "execution_count": 21,
   "metadata": {
    "ExecuteTime": {
     "end_time": "2020-07-26T13:26:26.680497Z",
     "start_time": "2020-07-26T13:26:26.416503Z"
    }
   },
   "outputs": [],
   "source": [
    "with open('kay_data/stimuli_features.pickle', 'wb') as fp:\n",
    "    pickle.dump(stimuli_features, fp, protocol=pickle.HIGHEST_PROTOCOL)"
   ]
  },
  {
   "cell_type": "code",
   "execution_count": null,
   "metadata": {},
   "outputs": [],
   "source": []
  }
 ],
 "metadata": {
  "kernelspec": {
   "display_name": "Python 3",
   "language": "python",
   "name": "python3"
  },
  "language_info": {
   "codemirror_mode": {
    "name": "ipython",
    "version": 3
   },
   "file_extension": ".py",
   "mimetype": "text/x-python",
   "name": "python",
   "nbconvert_exporter": "python",
   "pygments_lexer": "ipython3",
   "version": "3.7.7"
  }
 },
 "nbformat": 4,
 "nbformat_minor": 4
}